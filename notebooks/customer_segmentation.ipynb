{
 "cells": [
  {
   "cell_type": "code",
   "id": "initial_id",
   "metadata": {
    "collapsed": true,
    "ExecuteTime": {
     "end_time": "2025-09-17T07:00:35.101364Z",
     "start_time": "2025-09-17T07:00:34.971890Z"
    }
   },
   "source": [
    "import matplotlib.pyplot as plt\n",
    "import pandas as pd\n",
    "import plotly.express as px\n",
    "import seaborn as sns\n",
    "from sklearn.pipeline import make_pipeline\n",
    "from sklearn.metrics import silhouette_score\n",
    "from sklearn.preprocessing import StandardScaler\n",
    "from sklearn.decomposition import PCA\n",
    "from sklearn.cluster import KMeans\n",
    "from sklearn.model_selection import train_test_split\n",
    "from sklearn.tree import DecisionTreeClassifier\n",
    "from sklearn.model_selection import cross_val_score\n",
    "from sklearn.ensemble import RandomForestClassifier\n",
    "from sklearn.model_selection import GridSearchCV\n",
    "import streamlit as st\n",
    "from sklearn.metrics import classification_report\n",
    "# from sklearn.utils.validation import check_is_fitted\n",
    "\n"
   ],
   "outputs": [],
   "execution_count": 295
  },
  {
   "metadata": {
    "ExecuteTime": {
     "end_time": "2025-09-16T10:42:20.174120Z",
     "start_time": "2025-09-16T10:42:05.250509Z"
    }
   },
   "cell_type": "code",
   "source": [
    "# Data Cleaning & Preprocessing\n",
    "def wrangle(filename):\n",
    "    df = pd.read_excel(filename)\n",
    "    df = df.dropna()\n",
    "    # Ensure InvoiceNo is string so .str works\n",
    "    df[\"InvoiceNo\"] = df[\"InvoiceNo\"].astype(str)\n",
    "    # Remove rows where InvoiceNo starts with 'C'\n",
    "    df = df[~df[\"InvoiceNo\"].str.startswith(\"C\")].copy()\n",
    "    # Focus Analysis on the UK\n",
    "    df_uk = df[df['Country'] == 'United Kingdom'].copy()\n",
    "    # Create new feature: TotalCost = Quantity × UnitPrice\n",
    "    df_uk[\"TotalCost\"] = df_uk[\"Quantity\"] * df_uk[\"UnitPrice\"]\n",
    "    # slice TotalCost of 500\n",
    "    df_uk = df_uk[df_uk['TotalCost'] <= 500]\n",
    "    #slice by quantity of 100\n",
    "    df_uk = df_uk[df_uk['Quantity'] <= 100]\n",
    "    df = df_uk.reset_index(drop=True)\n",
    "    return df\n",
    "\n",
    "def create_rfm(df):\n",
    "    \"\"\"\n",
    "    Create Recency, Frequency, and Monetary features per customer.\n",
    "    df: Cleaned transaction DataFrame with columns:\n",
    "        CustomerID, InvoiceDate, InvoiceNo, TotalCost\n",
    "    Returns:\n",
    "        rfm DataFrame indexed by CustomerID\n",
    "    \"\"\"\n",
    "    # Make sure InvoiceDate is datetime\n",
    "    df[\"InvoiceDate\"] = pd.to_datetime(df[\"InvoiceDate\"])\n",
    "    # The reference date is one day after the last purchase\n",
    "    snapshot_date = df[\"InvoiceDate\"].max() + pd.Timedelta(days=1)\n",
    "    rfm = (\n",
    "        df.groupby(\"CustomerID\")\n",
    "        .agg(\n",
    "            Recency=(\"InvoiceDate\", lambda x: (snapshot_date - x.max()).days),\n",
    "            Frequency=(\"InvoiceNo\", \"nunique\"),\n",
    "            Monetary=(\"TotalCost\", \"sum\")\n",
    "        )\n",
    "    ).reset_index()\n",
    "    rfm.columns = [\"CustomerID\", \"Recency\", \"Frequency\", \"Monetary\"]\n",
    "    return rfm\n",
    "df=wrangle(\"../data/online_retail.xlsx\")\n",
    "rfm_df=create_rfm(df)\n",
    "\n"
   ],
   "id": "90a3d6315f7e33ab",
   "outputs": [],
   "execution_count": 251
  },
  {
   "metadata": {
    "ExecuteTime": {
     "end_time": "2025-09-18T02:31:01.055418Z",
     "start_time": "2025-09-18T02:31:01.049624Z"
    }
   },
   "cell_type": "code",
   "source": [
    "#EDA Basic structure, summary, key features\n",
    "# print(df.info())\n",
    "rfm_df.head()\n",
    "# print(rfm_df.info())\n",
    "# print(df.describe())\n",
    "# compare_quantity_TotalCost = df[[\"Quantity\", \"TotalCost\"]].describe(percentiles=[0.25, 0.5, 0.75, 0.9, 0.95, 0.99])\n",
    "# print(compare_quantity_TotalCost)"
   ],
   "id": "b37d50c6b27b89a8",
   "outputs": [
    {
     "data": {
      "text/plain": [
       "   CustomerID  Recency  Frequency  Monetary  Anomaly_ISO  Anomaly_LOF\n",
       "0     12747.0        2         11   4196.01            0            0\n",
       "1     12748.0        1        208  30278.53            1            1\n",
       "2     12749.0        4          5   4090.88            0            0\n",
       "3     12820.0        3          4    942.34            0            0\n",
       "4     12821.0      214          1     92.72            0            0"
      ],
      "text/html": [
       "<div>\n",
       "<style scoped>\n",
       "    .dataframe tbody tr th:only-of-type {\n",
       "        vertical-align: middle;\n",
       "    }\n",
       "\n",
       "    .dataframe tbody tr th {\n",
       "        vertical-align: top;\n",
       "    }\n",
       "\n",
       "    .dataframe thead th {\n",
       "        text-align: right;\n",
       "    }\n",
       "</style>\n",
       "<table border=\"1\" class=\"dataframe\">\n",
       "  <thead>\n",
       "    <tr style=\"text-align: right;\">\n",
       "      <th></th>\n",
       "      <th>CustomerID</th>\n",
       "      <th>Recency</th>\n",
       "      <th>Frequency</th>\n",
       "      <th>Monetary</th>\n",
       "      <th>Anomaly_ISO</th>\n",
       "      <th>Anomaly_LOF</th>\n",
       "    </tr>\n",
       "  </thead>\n",
       "  <tbody>\n",
       "    <tr>\n",
       "      <th>0</th>\n",
       "      <td>12747.0</td>\n",
       "      <td>2</td>\n",
       "      <td>11</td>\n",
       "      <td>4196.01</td>\n",
       "      <td>0</td>\n",
       "      <td>0</td>\n",
       "    </tr>\n",
       "    <tr>\n",
       "      <th>1</th>\n",
       "      <td>12748.0</td>\n",
       "      <td>1</td>\n",
       "      <td>208</td>\n",
       "      <td>30278.53</td>\n",
       "      <td>1</td>\n",
       "      <td>1</td>\n",
       "    </tr>\n",
       "    <tr>\n",
       "      <th>2</th>\n",
       "      <td>12749.0</td>\n",
       "      <td>4</td>\n",
       "      <td>5</td>\n",
       "      <td>4090.88</td>\n",
       "      <td>0</td>\n",
       "      <td>0</td>\n",
       "    </tr>\n",
       "    <tr>\n",
       "      <th>3</th>\n",
       "      <td>12820.0</td>\n",
       "      <td>3</td>\n",
       "      <td>4</td>\n",
       "      <td>942.34</td>\n",
       "      <td>0</td>\n",
       "      <td>0</td>\n",
       "    </tr>\n",
       "    <tr>\n",
       "      <th>4</th>\n",
       "      <td>12821.0</td>\n",
       "      <td>214</td>\n",
       "      <td>1</td>\n",
       "      <td>92.72</td>\n",
       "      <td>0</td>\n",
       "      <td>0</td>\n",
       "    </tr>\n",
       "  </tbody>\n",
       "</table>\n",
       "</div>"
      ]
     },
     "execution_count": 301,
     "metadata": {},
     "output_type": "execute_result"
    }
   ],
   "execution_count": 301
  },
  {
   "metadata": {
    "ExecuteTime": {
     "end_time": "2025-09-16T01:33:19.205276Z",
     "start_time": "2025-09-16T01:33:19.200814Z"
    }
   },
   "cell_type": "code",
   "source": [
    "# EDA Distributions of key features\n",
    "# Histogram of monetary values\n",
    "# plt.figure(figsize=(10,6))\n",
    "# sns.histplot(df['TotalCost'], bins=50)\n",
    "# plt.xlim(0, 500)  # optional: limit x-axis to focus on the bulk of data\n",
    "# plt.title('TotalCost Distribution')\n",
    "# plt.grid(False)\n",
    "# plt.show()\n",
    "\n",
    "# Quantity distribution\n",
    "# sns.boxplot(x=df['Quantity'])\n",
    "# plt.title('Quantity Boxplot')\n",
    "# plt.show()\n",
    "\n",
    "# Visualize where the extreme points are and how many there are.\n",
    "# fig, axes = plt.subplots(1, 2, figsize=(12, 5))\n",
    "# sns.boxplot(y=\"Quantity\", data=df, ax=axes[0])\n",
    "# axes[0].set_title(\"Quantity\")\n",
    "# sns.boxplot(y=\"TotalCost\", data=df, ax=axes[1])\n",
    "# axes[1].set_title(\"TotalCost\")\n",
    "# plt.tight_layout()\n",
    "# plt.show()\n",
    "\n",
    "\n",
    "# Time-based patterns(monthly revenue)\n",
    "# df['InvoiceDate'] = pd.to_datetime(df['InvoiceDate'])\n",
    "# df['InvoiceMonth'] = df['InvoiceDate'].dt.to_period('M')\n",
    "# monthly_sales = df.groupby('InvoiceMonth')['TotalCost'].sum()\n",
    "# monthly_sales.plot(kind='bar', figsize=(10,4), title='Monthly Revenue')\n",
    "# plt.ylabel('Revenue')\n",
    "# plt.show()\n",
    "\n",
    "# Customer behavior (use your RFM table)\n",
    "# Pairplot to view relationships\n",
    "# sns.pairplot(rfm_df)\n",
    "# plt.show()\n",
    "\n",
    "# Correlations\n",
    "# print(rfm_df.corr())\n",
    "# sns.heatmap(rfm_df.corr(), annot=True, cmap=\"Blues\")\n",
    "# plt.title(\"Correlation Heatmap of RFM Features\")\n",
    "# plt.show()\n",
    "\n",
    "# Top products from uk\n",
    "# top_products = (df.groupby('Description')['Quantity']\n",
    "#                   .sum()\n",
    "#                   .sort_values(ascending=False)\n",
    "#                   .head(10))\n",
    "# top_products.plot(kind='barh', title='Top 10 Products by Quantity')\n",
    "# plt.xlabel('Total Quantity')\n",
    "# plt.show()\n",
    "\n",
    "# top_countries = df['Country'].value_counts().head(10)\n",
    "# top_countries.plot(kind='bar', title='Top Countries by Transactions')\n",
    "# plt.ylabel('Number of Transactions')\n",
    "# plt.show()"
   ],
   "id": "63d86185f3bb5e16",
   "outputs": [],
   "execution_count": 194
  },
  {
   "metadata": {
    "ExecuteTime": {
     "end_time": "2025-09-17T01:24:00.508719Z",
     "start_time": "2025-09-17T01:23:59.593399Z"
    }
   },
   "cell_type": "code",
   "source": [
    "# Dimensionality Reduction, Standardize data (z-score scaling)\n",
    "\n",
    "X = rfm_df[[\"Recency\", \"Frequency\", \"Monetary\"]]\n",
    "# X.head()\n",
    "\n",
    "# iniate standardize Scaler\n",
    "s_scaler = StandardScaler()\n",
    "\n",
    "inertia_scores = []\n",
    "silhouette_scores = []\n",
    "n_clusters = range(2, 11)\n",
    "for k in n_clusters:\n",
    "    km_model = make_pipeline(s_scaler, KMeans(n_clusters=k, random_state=42))\n",
    "    km_model.fit(X)\n",
    "    inertia_scores.append(km_model.named_steps[\"kmeans\"].inertia_)\n",
    "    silhouette_scores.append(silhouette_score(X, km_model.named_steps[\"kmeans\"].labels_))\n",
    "\n",
    "# print(\"inertia_scores type:\", type(inertia_scores))\n",
    "# print(\"inertia_scores len:\", len(inertia_scores))\n",
    "print(\"inertia_scores:\", inertia_scores)\n",
    "print()\n",
    "# print(\"silhouette scores type:\", type(silhouette_scores))\n",
    "# print(\"silhouette scores len:\", len(silhouette_scores))\n",
    "print(\"silhouette scores:\", silhouette_scores)\n",
    "\n",
    "\n",
    "# plot inertia_scores vs n_clusters\n",
    "fig = px.line(x=n_clusters, y=inertia_scores, title=\"K-Means model: Inertia vs Number of Clusters\")\n",
    "fig.update_layout(xaxis_title=\"Number of Clusters (K)\", yaxis_title=\"Inertia\")\n",
    "fig.show()\n",
    "\n",
    "# plot silhouette_scores vs n_clusters\n",
    "fig = px.line(x=n_clusters, y=silhouette_scores)\n",
    "fig.update_layout(xaxis_title=\"Number of Clusters (K)\", yaxis_title=\"silhouette scores\")\n",
    "fig.show()\n",
    "\n",
    "# Inertia elbow around k=4 → model fit keeps improving until 4.\n",
    "# Silhouette is best at k=2 (0.90) and good at k=3 (0.67), but almost zero at k=4.\n",
    "# Conclusion: 2–3 clusters give good separation\n"
   ],
   "id": "970869f4d12954f8",
   "outputs": [
    {
     "name": "stdout",
     "output_type": "stream",
     "text": [
      "inertia_scores: [8050.694304882067, 6143.172968877961, 3262.7001496114453, 2725.360497222616, 2238.99279860762, 1853.3256326158973, 1553.7779115808537, 1357.0470190936642, 1217.2104692573694]\n",
      "\n",
      "silhouette scores: [0.8994479323540906, 0.6744471190810768, 0.02414383827656872, 0.05969967434976525, 0.08884686614313422, -0.01218737050540613, 0.059927588118938606, 0.05725329183187209, -0.026182999725232838]\n"
     ]
    },
    {
     "data": {
      "application/vnd.plotly.v1+json": {
       "data": [
        {
         "hovertemplate": "x=%{x}<br>y=%{y}<extra></extra>",
         "legendgroup": "",
         "line": {
          "color": "#636efa",
          "dash": "solid"
         },
         "marker": {
          "symbol": "circle"
         },
         "mode": "lines",
         "name": "",
         "orientation": "v",
         "showlegend": false,
         "x": {
          "dtype": "i1",
          "bdata": "AgMEBQYHCAkK"
         },
         "xaxis": "x",
         "y": {
          "dtype": "f8",
          "bdata": "7vn2vbFyv0AROrBHLP+3QO6GAnpmfalA3ooXk7hKpUB8XhlQ/H2hQCnvonJN9ZxAyXvalBxHmEBN9sUlMDSVQNzEQIXXBJNA"
         },
         "yaxis": "y",
         "type": "scatter"
        }
       ],
       "layout": {
        "template": {
         "data": {
          "histogram2dcontour": [
           {
            "type": "histogram2dcontour",
            "colorbar": {
             "outlinewidth": 0,
             "ticks": ""
            },
            "colorscale": [
             [
              0.0,
              "#0d0887"
             ],
             [
              0.1111111111111111,
              "#46039f"
             ],
             [
              0.2222222222222222,
              "#7201a8"
             ],
             [
              0.3333333333333333,
              "#9c179e"
             ],
             [
              0.4444444444444444,
              "#bd3786"
             ],
             [
              0.5555555555555556,
              "#d8576b"
             ],
             [
              0.6666666666666666,
              "#ed7953"
             ],
             [
              0.7777777777777778,
              "#fb9f3a"
             ],
             [
              0.8888888888888888,
              "#fdca26"
             ],
             [
              1.0,
              "#f0f921"
             ]
            ]
           }
          ],
          "choropleth": [
           {
            "type": "choropleth",
            "colorbar": {
             "outlinewidth": 0,
             "ticks": ""
            }
           }
          ],
          "histogram2d": [
           {
            "type": "histogram2d",
            "colorbar": {
             "outlinewidth": 0,
             "ticks": ""
            },
            "colorscale": [
             [
              0.0,
              "#0d0887"
             ],
             [
              0.1111111111111111,
              "#46039f"
             ],
             [
              0.2222222222222222,
              "#7201a8"
             ],
             [
              0.3333333333333333,
              "#9c179e"
             ],
             [
              0.4444444444444444,
              "#bd3786"
             ],
             [
              0.5555555555555556,
              "#d8576b"
             ],
             [
              0.6666666666666666,
              "#ed7953"
             ],
             [
              0.7777777777777778,
              "#fb9f3a"
             ],
             [
              0.8888888888888888,
              "#fdca26"
             ],
             [
              1.0,
              "#f0f921"
             ]
            ]
           }
          ],
          "heatmap": [
           {
            "type": "heatmap",
            "colorbar": {
             "outlinewidth": 0,
             "ticks": ""
            },
            "colorscale": [
             [
              0.0,
              "#0d0887"
             ],
             [
              0.1111111111111111,
              "#46039f"
             ],
             [
              0.2222222222222222,
              "#7201a8"
             ],
             [
              0.3333333333333333,
              "#9c179e"
             ],
             [
              0.4444444444444444,
              "#bd3786"
             ],
             [
              0.5555555555555556,
              "#d8576b"
             ],
             [
              0.6666666666666666,
              "#ed7953"
             ],
             [
              0.7777777777777778,
              "#fb9f3a"
             ],
             [
              0.8888888888888888,
              "#fdca26"
             ],
             [
              1.0,
              "#f0f921"
             ]
            ]
           }
          ],
          "contourcarpet": [
           {
            "type": "contourcarpet",
            "colorbar": {
             "outlinewidth": 0,
             "ticks": ""
            }
           }
          ],
          "contour": [
           {
            "type": "contour",
            "colorbar": {
             "outlinewidth": 0,
             "ticks": ""
            },
            "colorscale": [
             [
              0.0,
              "#0d0887"
             ],
             [
              0.1111111111111111,
              "#46039f"
             ],
             [
              0.2222222222222222,
              "#7201a8"
             ],
             [
              0.3333333333333333,
              "#9c179e"
             ],
             [
              0.4444444444444444,
              "#bd3786"
             ],
             [
              0.5555555555555556,
              "#d8576b"
             ],
             [
              0.6666666666666666,
              "#ed7953"
             ],
             [
              0.7777777777777778,
              "#fb9f3a"
             ],
             [
              0.8888888888888888,
              "#fdca26"
             ],
             [
              1.0,
              "#f0f921"
             ]
            ]
           }
          ],
          "surface": [
           {
            "type": "surface",
            "colorbar": {
             "outlinewidth": 0,
             "ticks": ""
            },
            "colorscale": [
             [
              0.0,
              "#0d0887"
             ],
             [
              0.1111111111111111,
              "#46039f"
             ],
             [
              0.2222222222222222,
              "#7201a8"
             ],
             [
              0.3333333333333333,
              "#9c179e"
             ],
             [
              0.4444444444444444,
              "#bd3786"
             ],
             [
              0.5555555555555556,
              "#d8576b"
             ],
             [
              0.6666666666666666,
              "#ed7953"
             ],
             [
              0.7777777777777778,
              "#fb9f3a"
             ],
             [
              0.8888888888888888,
              "#fdca26"
             ],
             [
              1.0,
              "#f0f921"
             ]
            ]
           }
          ],
          "mesh3d": [
           {
            "type": "mesh3d",
            "colorbar": {
             "outlinewidth": 0,
             "ticks": ""
            }
           }
          ],
          "scatter": [
           {
            "fillpattern": {
             "fillmode": "overlay",
             "size": 10,
             "solidity": 0.2
            },
            "type": "scatter"
           }
          ],
          "parcoords": [
           {
            "type": "parcoords",
            "line": {
             "colorbar": {
              "outlinewidth": 0,
              "ticks": ""
             }
            }
           }
          ],
          "scatterpolargl": [
           {
            "type": "scatterpolargl",
            "marker": {
             "colorbar": {
              "outlinewidth": 0,
              "ticks": ""
             }
            }
           }
          ],
          "bar": [
           {
            "error_x": {
             "color": "#2a3f5f"
            },
            "error_y": {
             "color": "#2a3f5f"
            },
            "marker": {
             "line": {
              "color": "#E5ECF6",
              "width": 0.5
             },
             "pattern": {
              "fillmode": "overlay",
              "size": 10,
              "solidity": 0.2
             }
            },
            "type": "bar"
           }
          ],
          "scattergeo": [
           {
            "type": "scattergeo",
            "marker": {
             "colorbar": {
              "outlinewidth": 0,
              "ticks": ""
             }
            }
           }
          ],
          "scatterpolar": [
           {
            "type": "scatterpolar",
            "marker": {
             "colorbar": {
              "outlinewidth": 0,
              "ticks": ""
             }
            }
           }
          ],
          "histogram": [
           {
            "marker": {
             "pattern": {
              "fillmode": "overlay",
              "size": 10,
              "solidity": 0.2
             }
            },
            "type": "histogram"
           }
          ],
          "scattergl": [
           {
            "type": "scattergl",
            "marker": {
             "colorbar": {
              "outlinewidth": 0,
              "ticks": ""
             }
            }
           }
          ],
          "scatter3d": [
           {
            "type": "scatter3d",
            "line": {
             "colorbar": {
              "outlinewidth": 0,
              "ticks": ""
             }
            },
            "marker": {
             "colorbar": {
              "outlinewidth": 0,
              "ticks": ""
             }
            }
           }
          ],
          "scattermap": [
           {
            "type": "scattermap",
            "marker": {
             "colorbar": {
              "outlinewidth": 0,
              "ticks": ""
             }
            }
           }
          ],
          "scattermapbox": [
           {
            "type": "scattermapbox",
            "marker": {
             "colorbar": {
              "outlinewidth": 0,
              "ticks": ""
             }
            }
           }
          ],
          "scatterternary": [
           {
            "type": "scatterternary",
            "marker": {
             "colorbar": {
              "outlinewidth": 0,
              "ticks": ""
             }
            }
           }
          ],
          "scattercarpet": [
           {
            "type": "scattercarpet",
            "marker": {
             "colorbar": {
              "outlinewidth": 0,
              "ticks": ""
             }
            }
           }
          ],
          "carpet": [
           {
            "aaxis": {
             "endlinecolor": "#2a3f5f",
             "gridcolor": "white",
             "linecolor": "white",
             "minorgridcolor": "white",
             "startlinecolor": "#2a3f5f"
            },
            "baxis": {
             "endlinecolor": "#2a3f5f",
             "gridcolor": "white",
             "linecolor": "white",
             "minorgridcolor": "white",
             "startlinecolor": "#2a3f5f"
            },
            "type": "carpet"
           }
          ],
          "table": [
           {
            "cells": {
             "fill": {
              "color": "#EBF0F8"
             },
             "line": {
              "color": "white"
             }
            },
            "header": {
             "fill": {
              "color": "#C8D4E3"
             },
             "line": {
              "color": "white"
             }
            },
            "type": "table"
           }
          ],
          "barpolar": [
           {
            "marker": {
             "line": {
              "color": "#E5ECF6",
              "width": 0.5
             },
             "pattern": {
              "fillmode": "overlay",
              "size": 10,
              "solidity": 0.2
             }
            },
            "type": "barpolar"
           }
          ],
          "pie": [
           {
            "automargin": true,
            "type": "pie"
           }
          ]
         },
         "layout": {
          "autotypenumbers": "strict",
          "colorway": [
           "#636efa",
           "#EF553B",
           "#00cc96",
           "#ab63fa",
           "#FFA15A",
           "#19d3f3",
           "#FF6692",
           "#B6E880",
           "#FF97FF",
           "#FECB52"
          ],
          "font": {
           "color": "#2a3f5f"
          },
          "hovermode": "closest",
          "hoverlabel": {
           "align": "left"
          },
          "paper_bgcolor": "white",
          "plot_bgcolor": "#E5ECF6",
          "polar": {
           "bgcolor": "#E5ECF6",
           "angularaxis": {
            "gridcolor": "white",
            "linecolor": "white",
            "ticks": ""
           },
           "radialaxis": {
            "gridcolor": "white",
            "linecolor": "white",
            "ticks": ""
           }
          },
          "ternary": {
           "bgcolor": "#E5ECF6",
           "aaxis": {
            "gridcolor": "white",
            "linecolor": "white",
            "ticks": ""
           },
           "baxis": {
            "gridcolor": "white",
            "linecolor": "white",
            "ticks": ""
           },
           "caxis": {
            "gridcolor": "white",
            "linecolor": "white",
            "ticks": ""
           }
          },
          "coloraxis": {
           "colorbar": {
            "outlinewidth": 0,
            "ticks": ""
           }
          },
          "colorscale": {
           "sequential": [
            [
             0.0,
             "#0d0887"
            ],
            [
             0.1111111111111111,
             "#46039f"
            ],
            [
             0.2222222222222222,
             "#7201a8"
            ],
            [
             0.3333333333333333,
             "#9c179e"
            ],
            [
             0.4444444444444444,
             "#bd3786"
            ],
            [
             0.5555555555555556,
             "#d8576b"
            ],
            [
             0.6666666666666666,
             "#ed7953"
            ],
            [
             0.7777777777777778,
             "#fb9f3a"
            ],
            [
             0.8888888888888888,
             "#fdca26"
            ],
            [
             1.0,
             "#f0f921"
            ]
           ],
           "sequentialminus": [
            [
             0.0,
             "#0d0887"
            ],
            [
             0.1111111111111111,
             "#46039f"
            ],
            [
             0.2222222222222222,
             "#7201a8"
            ],
            [
             0.3333333333333333,
             "#9c179e"
            ],
            [
             0.4444444444444444,
             "#bd3786"
            ],
            [
             0.5555555555555556,
             "#d8576b"
            ],
            [
             0.6666666666666666,
             "#ed7953"
            ],
            [
             0.7777777777777778,
             "#fb9f3a"
            ],
            [
             0.8888888888888888,
             "#fdca26"
            ],
            [
             1.0,
             "#f0f921"
            ]
           ],
           "diverging": [
            [
             0,
             "#8e0152"
            ],
            [
             0.1,
             "#c51b7d"
            ],
            [
             0.2,
             "#de77ae"
            ],
            [
             0.3,
             "#f1b6da"
            ],
            [
             0.4,
             "#fde0ef"
            ],
            [
             0.5,
             "#f7f7f7"
            ],
            [
             0.6,
             "#e6f5d0"
            ],
            [
             0.7,
             "#b8e186"
            ],
            [
             0.8,
             "#7fbc41"
            ],
            [
             0.9,
             "#4d9221"
            ],
            [
             1,
             "#276419"
            ]
           ]
          },
          "xaxis": {
           "gridcolor": "white",
           "linecolor": "white",
           "ticks": "",
           "title": {
            "standoff": 15
           },
           "zerolinecolor": "white",
           "automargin": true,
           "zerolinewidth": 2
          },
          "yaxis": {
           "gridcolor": "white",
           "linecolor": "white",
           "ticks": "",
           "title": {
            "standoff": 15
           },
           "zerolinecolor": "white",
           "automargin": true,
           "zerolinewidth": 2
          },
          "scene": {
           "xaxis": {
            "backgroundcolor": "#E5ECF6",
            "gridcolor": "white",
            "linecolor": "white",
            "showbackground": true,
            "ticks": "",
            "zerolinecolor": "white",
            "gridwidth": 2
           },
           "yaxis": {
            "backgroundcolor": "#E5ECF6",
            "gridcolor": "white",
            "linecolor": "white",
            "showbackground": true,
            "ticks": "",
            "zerolinecolor": "white",
            "gridwidth": 2
           },
           "zaxis": {
            "backgroundcolor": "#E5ECF6",
            "gridcolor": "white",
            "linecolor": "white",
            "showbackground": true,
            "ticks": "",
            "zerolinecolor": "white",
            "gridwidth": 2
           }
          },
          "shapedefaults": {
           "line": {
            "color": "#2a3f5f"
           }
          },
          "annotationdefaults": {
           "arrowcolor": "#2a3f5f",
           "arrowhead": 0,
           "arrowwidth": 1
          },
          "geo": {
           "bgcolor": "white",
           "landcolor": "#E5ECF6",
           "subunitcolor": "white",
           "showland": true,
           "showlakes": true,
           "lakecolor": "white"
          },
          "title": {
           "x": 0.05
          },
          "mapbox": {
           "style": "light"
          }
         }
        },
        "xaxis": {
         "anchor": "y",
         "domain": [
          0.0,
          1.0
         ],
         "title": {
          "text": "Number of Clusters (K)"
         }
        },
        "yaxis": {
         "anchor": "x",
         "domain": [
          0.0,
          1.0
         ],
         "title": {
          "text": "Inertia"
         }
        },
        "legend": {
         "tracegroupgap": 0
        },
        "title": {
         "text": "K-Means model: Inertia vs Number of Clusters"
        }
       },
       "config": {
        "plotlyServerURL": "https://plot.ly"
       }
      }
     },
     "metadata": {},
     "output_type": "display_data",
     "jetTransient": {
      "display_id": null
     }
    },
    {
     "data": {
      "application/vnd.plotly.v1+json": {
       "data": [
        {
         "hovertemplate": "x=%{x}<br>y=%{y}<extra></extra>",
         "legendgroup": "",
         "line": {
          "color": "#636efa",
          "dash": "solid"
         },
         "marker": {
          "symbol": "circle"
         },
         "mode": "lines",
         "name": "",
         "orientation": "v",
         "showlegend": false,
         "x": {
          "dtype": "i1",
          "bdata": "AgMEBQYHCAkK"
         },
         "xaxis": "x",
         "y": {
          "dtype": "f8",
          "bdata": "60y9B0fI7D9kteofEpXlPxrsMI8puZg/2APUqfSQrj961W8Qq762P5yq9S2x9Yi/D7AyLtSurj8tMQOwTVCtPxrMH163z5q/"
         },
         "yaxis": "y",
         "type": "scatter"
        }
       ],
       "layout": {
        "template": {
         "data": {
          "histogram2dcontour": [
           {
            "type": "histogram2dcontour",
            "colorbar": {
             "outlinewidth": 0,
             "ticks": ""
            },
            "colorscale": [
             [
              0.0,
              "#0d0887"
             ],
             [
              0.1111111111111111,
              "#46039f"
             ],
             [
              0.2222222222222222,
              "#7201a8"
             ],
             [
              0.3333333333333333,
              "#9c179e"
             ],
             [
              0.4444444444444444,
              "#bd3786"
             ],
             [
              0.5555555555555556,
              "#d8576b"
             ],
             [
              0.6666666666666666,
              "#ed7953"
             ],
             [
              0.7777777777777778,
              "#fb9f3a"
             ],
             [
              0.8888888888888888,
              "#fdca26"
             ],
             [
              1.0,
              "#f0f921"
             ]
            ]
           }
          ],
          "choropleth": [
           {
            "type": "choropleth",
            "colorbar": {
             "outlinewidth": 0,
             "ticks": ""
            }
           }
          ],
          "histogram2d": [
           {
            "type": "histogram2d",
            "colorbar": {
             "outlinewidth": 0,
             "ticks": ""
            },
            "colorscale": [
             [
              0.0,
              "#0d0887"
             ],
             [
              0.1111111111111111,
              "#46039f"
             ],
             [
              0.2222222222222222,
              "#7201a8"
             ],
             [
              0.3333333333333333,
              "#9c179e"
             ],
             [
              0.4444444444444444,
              "#bd3786"
             ],
             [
              0.5555555555555556,
              "#d8576b"
             ],
             [
              0.6666666666666666,
              "#ed7953"
             ],
             [
              0.7777777777777778,
              "#fb9f3a"
             ],
             [
              0.8888888888888888,
              "#fdca26"
             ],
             [
              1.0,
              "#f0f921"
             ]
            ]
           }
          ],
          "heatmap": [
           {
            "type": "heatmap",
            "colorbar": {
             "outlinewidth": 0,
             "ticks": ""
            },
            "colorscale": [
             [
              0.0,
              "#0d0887"
             ],
             [
              0.1111111111111111,
              "#46039f"
             ],
             [
              0.2222222222222222,
              "#7201a8"
             ],
             [
              0.3333333333333333,
              "#9c179e"
             ],
             [
              0.4444444444444444,
              "#bd3786"
             ],
             [
              0.5555555555555556,
              "#d8576b"
             ],
             [
              0.6666666666666666,
              "#ed7953"
             ],
             [
              0.7777777777777778,
              "#fb9f3a"
             ],
             [
              0.8888888888888888,
              "#fdca26"
             ],
             [
              1.0,
              "#f0f921"
             ]
            ]
           }
          ],
          "contourcarpet": [
           {
            "type": "contourcarpet",
            "colorbar": {
             "outlinewidth": 0,
             "ticks": ""
            }
           }
          ],
          "contour": [
           {
            "type": "contour",
            "colorbar": {
             "outlinewidth": 0,
             "ticks": ""
            },
            "colorscale": [
             [
              0.0,
              "#0d0887"
             ],
             [
              0.1111111111111111,
              "#46039f"
             ],
             [
              0.2222222222222222,
              "#7201a8"
             ],
             [
              0.3333333333333333,
              "#9c179e"
             ],
             [
              0.4444444444444444,
              "#bd3786"
             ],
             [
              0.5555555555555556,
              "#d8576b"
             ],
             [
              0.6666666666666666,
              "#ed7953"
             ],
             [
              0.7777777777777778,
              "#fb9f3a"
             ],
             [
              0.8888888888888888,
              "#fdca26"
             ],
             [
              1.0,
              "#f0f921"
             ]
            ]
           }
          ],
          "surface": [
           {
            "type": "surface",
            "colorbar": {
             "outlinewidth": 0,
             "ticks": ""
            },
            "colorscale": [
             [
              0.0,
              "#0d0887"
             ],
             [
              0.1111111111111111,
              "#46039f"
             ],
             [
              0.2222222222222222,
              "#7201a8"
             ],
             [
              0.3333333333333333,
              "#9c179e"
             ],
             [
              0.4444444444444444,
              "#bd3786"
             ],
             [
              0.5555555555555556,
              "#d8576b"
             ],
             [
              0.6666666666666666,
              "#ed7953"
             ],
             [
              0.7777777777777778,
              "#fb9f3a"
             ],
             [
              0.8888888888888888,
              "#fdca26"
             ],
             [
              1.0,
              "#f0f921"
             ]
            ]
           }
          ],
          "mesh3d": [
           {
            "type": "mesh3d",
            "colorbar": {
             "outlinewidth": 0,
             "ticks": ""
            }
           }
          ],
          "scatter": [
           {
            "fillpattern": {
             "fillmode": "overlay",
             "size": 10,
             "solidity": 0.2
            },
            "type": "scatter"
           }
          ],
          "parcoords": [
           {
            "type": "parcoords",
            "line": {
             "colorbar": {
              "outlinewidth": 0,
              "ticks": ""
             }
            }
           }
          ],
          "scatterpolargl": [
           {
            "type": "scatterpolargl",
            "marker": {
             "colorbar": {
              "outlinewidth": 0,
              "ticks": ""
             }
            }
           }
          ],
          "bar": [
           {
            "error_x": {
             "color": "#2a3f5f"
            },
            "error_y": {
             "color": "#2a3f5f"
            },
            "marker": {
             "line": {
              "color": "#E5ECF6",
              "width": 0.5
             },
             "pattern": {
              "fillmode": "overlay",
              "size": 10,
              "solidity": 0.2
             }
            },
            "type": "bar"
           }
          ],
          "scattergeo": [
           {
            "type": "scattergeo",
            "marker": {
             "colorbar": {
              "outlinewidth": 0,
              "ticks": ""
             }
            }
           }
          ],
          "scatterpolar": [
           {
            "type": "scatterpolar",
            "marker": {
             "colorbar": {
              "outlinewidth": 0,
              "ticks": ""
             }
            }
           }
          ],
          "histogram": [
           {
            "marker": {
             "pattern": {
              "fillmode": "overlay",
              "size": 10,
              "solidity": 0.2
             }
            },
            "type": "histogram"
           }
          ],
          "scattergl": [
           {
            "type": "scattergl",
            "marker": {
             "colorbar": {
              "outlinewidth": 0,
              "ticks": ""
             }
            }
           }
          ],
          "scatter3d": [
           {
            "type": "scatter3d",
            "line": {
             "colorbar": {
              "outlinewidth": 0,
              "ticks": ""
             }
            },
            "marker": {
             "colorbar": {
              "outlinewidth": 0,
              "ticks": ""
             }
            }
           }
          ],
          "scattermap": [
           {
            "type": "scattermap",
            "marker": {
             "colorbar": {
              "outlinewidth": 0,
              "ticks": ""
             }
            }
           }
          ],
          "scattermapbox": [
           {
            "type": "scattermapbox",
            "marker": {
             "colorbar": {
              "outlinewidth": 0,
              "ticks": ""
             }
            }
           }
          ],
          "scatterternary": [
           {
            "type": "scatterternary",
            "marker": {
             "colorbar": {
              "outlinewidth": 0,
              "ticks": ""
             }
            }
           }
          ],
          "scattercarpet": [
           {
            "type": "scattercarpet",
            "marker": {
             "colorbar": {
              "outlinewidth": 0,
              "ticks": ""
             }
            }
           }
          ],
          "carpet": [
           {
            "aaxis": {
             "endlinecolor": "#2a3f5f",
             "gridcolor": "white",
             "linecolor": "white",
             "minorgridcolor": "white",
             "startlinecolor": "#2a3f5f"
            },
            "baxis": {
             "endlinecolor": "#2a3f5f",
             "gridcolor": "white",
             "linecolor": "white",
             "minorgridcolor": "white",
             "startlinecolor": "#2a3f5f"
            },
            "type": "carpet"
           }
          ],
          "table": [
           {
            "cells": {
             "fill": {
              "color": "#EBF0F8"
             },
             "line": {
              "color": "white"
             }
            },
            "header": {
             "fill": {
              "color": "#C8D4E3"
             },
             "line": {
              "color": "white"
             }
            },
            "type": "table"
           }
          ],
          "barpolar": [
           {
            "marker": {
             "line": {
              "color": "#E5ECF6",
              "width": 0.5
             },
             "pattern": {
              "fillmode": "overlay",
              "size": 10,
              "solidity": 0.2
             }
            },
            "type": "barpolar"
           }
          ],
          "pie": [
           {
            "automargin": true,
            "type": "pie"
           }
          ]
         },
         "layout": {
          "autotypenumbers": "strict",
          "colorway": [
           "#636efa",
           "#EF553B",
           "#00cc96",
           "#ab63fa",
           "#FFA15A",
           "#19d3f3",
           "#FF6692",
           "#B6E880",
           "#FF97FF",
           "#FECB52"
          ],
          "font": {
           "color": "#2a3f5f"
          },
          "hovermode": "closest",
          "hoverlabel": {
           "align": "left"
          },
          "paper_bgcolor": "white",
          "plot_bgcolor": "#E5ECF6",
          "polar": {
           "bgcolor": "#E5ECF6",
           "angularaxis": {
            "gridcolor": "white",
            "linecolor": "white",
            "ticks": ""
           },
           "radialaxis": {
            "gridcolor": "white",
            "linecolor": "white",
            "ticks": ""
           }
          },
          "ternary": {
           "bgcolor": "#E5ECF6",
           "aaxis": {
            "gridcolor": "white",
            "linecolor": "white",
            "ticks": ""
           },
           "baxis": {
            "gridcolor": "white",
            "linecolor": "white",
            "ticks": ""
           },
           "caxis": {
            "gridcolor": "white",
            "linecolor": "white",
            "ticks": ""
           }
          },
          "coloraxis": {
           "colorbar": {
            "outlinewidth": 0,
            "ticks": ""
           }
          },
          "colorscale": {
           "sequential": [
            [
             0.0,
             "#0d0887"
            ],
            [
             0.1111111111111111,
             "#46039f"
            ],
            [
             0.2222222222222222,
             "#7201a8"
            ],
            [
             0.3333333333333333,
             "#9c179e"
            ],
            [
             0.4444444444444444,
             "#bd3786"
            ],
            [
             0.5555555555555556,
             "#d8576b"
            ],
            [
             0.6666666666666666,
             "#ed7953"
            ],
            [
             0.7777777777777778,
             "#fb9f3a"
            ],
            [
             0.8888888888888888,
             "#fdca26"
            ],
            [
             1.0,
             "#f0f921"
            ]
           ],
           "sequentialminus": [
            [
             0.0,
             "#0d0887"
            ],
            [
             0.1111111111111111,
             "#46039f"
            ],
            [
             0.2222222222222222,
             "#7201a8"
            ],
            [
             0.3333333333333333,
             "#9c179e"
            ],
            [
             0.4444444444444444,
             "#bd3786"
            ],
            [
             0.5555555555555556,
             "#d8576b"
            ],
            [
             0.6666666666666666,
             "#ed7953"
            ],
            [
             0.7777777777777778,
             "#fb9f3a"
            ],
            [
             0.8888888888888888,
             "#fdca26"
            ],
            [
             1.0,
             "#f0f921"
            ]
           ],
           "diverging": [
            [
             0,
             "#8e0152"
            ],
            [
             0.1,
             "#c51b7d"
            ],
            [
             0.2,
             "#de77ae"
            ],
            [
             0.3,
             "#f1b6da"
            ],
            [
             0.4,
             "#fde0ef"
            ],
            [
             0.5,
             "#f7f7f7"
            ],
            [
             0.6,
             "#e6f5d0"
            ],
            [
             0.7,
             "#b8e186"
            ],
            [
             0.8,
             "#7fbc41"
            ],
            [
             0.9,
             "#4d9221"
            ],
            [
             1,
             "#276419"
            ]
           ]
          },
          "xaxis": {
           "gridcolor": "white",
           "linecolor": "white",
           "ticks": "",
           "title": {
            "standoff": 15
           },
           "zerolinecolor": "white",
           "automargin": true,
           "zerolinewidth": 2
          },
          "yaxis": {
           "gridcolor": "white",
           "linecolor": "white",
           "ticks": "",
           "title": {
            "standoff": 15
           },
           "zerolinecolor": "white",
           "automargin": true,
           "zerolinewidth": 2
          },
          "scene": {
           "xaxis": {
            "backgroundcolor": "#E5ECF6",
            "gridcolor": "white",
            "linecolor": "white",
            "showbackground": true,
            "ticks": "",
            "zerolinecolor": "white",
            "gridwidth": 2
           },
           "yaxis": {
            "backgroundcolor": "#E5ECF6",
            "gridcolor": "white",
            "linecolor": "white",
            "showbackground": true,
            "ticks": "",
            "zerolinecolor": "white",
            "gridwidth": 2
           },
           "zaxis": {
            "backgroundcolor": "#E5ECF6",
            "gridcolor": "white",
            "linecolor": "white",
            "showbackground": true,
            "ticks": "",
            "zerolinecolor": "white",
            "gridwidth": 2
           }
          },
          "shapedefaults": {
           "line": {
            "color": "#2a3f5f"
           }
          },
          "annotationdefaults": {
           "arrowcolor": "#2a3f5f",
           "arrowhead": 0,
           "arrowwidth": 1
          },
          "geo": {
           "bgcolor": "white",
           "landcolor": "#E5ECF6",
           "subunitcolor": "white",
           "showland": true,
           "showlakes": true,
           "lakecolor": "white"
          },
          "title": {
           "x": 0.05
          },
          "mapbox": {
           "style": "light"
          }
         }
        },
        "xaxis": {
         "anchor": "y",
         "domain": [
          0.0,
          1.0
         ],
         "title": {
          "text": "Number of Clusters (K)"
         }
        },
        "yaxis": {
         "anchor": "x",
         "domain": [
          0.0,
          1.0
         ],
         "title": {
          "text": "silhouette scores"
         }
        },
        "legend": {
         "tracegroupgap": 0
        },
        "margin": {
         "t": 60
        }
       },
       "config": {
        "plotlyServerURL": "https://plot.ly"
       }
      }
     },
     "metadata": {},
     "output_type": "display_data",
     "jetTransient": {
      "display_id": null
     }
    }
   ],
   "execution_count": 287
  },
  {
   "metadata": {
    "ExecuteTime": {
     "end_time": "2025-09-17T01:23:36.732387Z",
     "start_time": "2025-09-17T01:23:36.692431Z"
    }
   },
   "cell_type": "code",
   "source": [
    "# Applying PCA to reduce to 2 components (for 2-D plotting)\n",
    "pca = PCA(n_components=2, random_state=42)\n",
    "X_t = pca.fit_transform(X)\n",
    "X_pca = pd.DataFrame(X_t, columns=[\"PC1\", \"PC2\"])\n",
    "final_model = make_pipeline(s_scaler, KMeans(n_clusters=3, random_state=42))\n",
    "final_model.fit(X)\n",
    "\n",
    "i = final_model.named_steps[\"kmeans\"].inertia_\n",
    "labels = final_model.named_steps[\"kmeans\"].labels_\n",
    "\n",
    "# scatter plot of PCA\n",
    "fig = px.scatter(X_pca, x=\"PC1\", y=\"PC2\", color=labels, title=\"PCA representation of clusters\")\n",
    "fig.update_layout(xaxis_title=\"PC1\", yaxis_title=\"PC2\")\n",
    "fig.show()\n",
    "X_pca.head()"
   ],
   "id": "82944e74fd15c6ec",
   "outputs": [
    {
     "data": {
      "application/vnd.plotly.v1+json": {
       "data": [
        {
         "hovertemplate": "PC1=%{x}<br>PC2=%{y}<br>color=%{marker.color}<extra></extra>",
         "legendgroup": "",
         "marker": {
          "color": {
           "dtype": "i4",
           "bdata": "AQAAAAIAAAABAAAAAAAAAAAAAAAAAAAAAAAAAAAAAAABAAAAAAAAAAAAAAAAAAAAAAAAAAAAAAAAAAAAAAAAAAAAAAAAAAAAAAAAAAAAAAABAAAAAAAAAAEAAAAAAAAAAAAAAAAAAAAAAAAAAAAAAAAAAAAAAAAAAAAAAAAAAAAAAAAAAAAAAAEAAAAAAAAAAAAAAAAAAAABAAAAAAAAAAAAAAAAAAAAAAAAAAEAAAAAAAAAAAAAAAAAAAAAAAAAAAAAAAAAAAAAAAAAAAAAAAAAAAAAAAAAAAAAAAAAAAAAAAAAAAAAAAEAAAAAAAAAAAAAAAEAAAAAAAAAAQAAAAAAAAABAAAAAAAAAAAAAAAAAAAAAAAAAAAAAAABAAAAAAAAAAAAAAAAAAAAAAAAAAAAAAAAAAAAAAAAAAEAAAAAAAAAAQAAAAAAAAAAAAAAAAAAAAEAAAAAAAAAAAAAAAAAAAAAAAAAAAAAAAEAAAABAAAAAAAAAAAAAAAAAAAAAAAAAAEAAAAAAAAAAQAAAAAAAAABAAAAAAAAAAAAAAAAAAAAAAAAAAAAAAACAAAAAAAAAAAAAAAAAAAAAAAAAAAAAAAAAAAAAAAAAAAAAAAAAAAAAAAAAAEAAAAAAAAAAAAAAAAAAAAAAAAAAAAAAAAAAAAAAAAAAAAAAAEAAAAAAAAAAAAAAAEAAAAAAAAAAAAAAAAAAAAAAAAAAQAAAAEAAAABAAAAAAAAAAAAAAAAAAAAAQAAAAEAAAAAAAAAAAAAAAAAAAAAAAAAAAAAAAAAAAAAAAAAAAAAAAAAAAAAAAAAAAAAAAAAAAAAAAAAAAAAAAAAAAAAAAAAAQAAAAAAAAAAAAAAAQAAAAAAAAAAAAAAAAAAAAAAAAAAAAAAAAAAAAAAAAAAAAAAAAAAAAAAAAAAAAAAAAAAAAEAAAAAAAAAAAAAAAAAAAAAAAAAAQAAAAAAAAAAAAAAAQAAAAAAAAAAAAAAAAAAAAIAAAABAAAAAAAAAAAAAAAAAAAAAQAAAAAAAAABAAAAAgAAAAAAAAABAAAAAAAAAAAAAAAAAAAAAAAAAAAAAAAAAAAAAAAAAAEAAAAAAAAAAAAAAAEAAAAAAAAAAAAAAAAAAAAAAAAAAAAAAAEAAAAAAAAAAAAAAAAAAAAAAAAAAAAAAAAAAAAAAAAAAQAAAAAAAAABAAAAAAAAAAAAAAAAAAAAAAAAAAAAAAAAAAAAAAAAAAEAAAAAAAAAAAAAAAAAAAAAAAAAAAAAAAAAAAAAAAAAAAAAAAAAAAAAAAAAAAAAAAAAAAAAAAAAAAAAAAAAAAAAAAAAAAAAAAAAAAAAAAAAAAAAAAAAAAABAAAAAAAAAAEAAAABAAAAAAAAAAAAAAAAAAAAAAAAAAAAAAAAAAAAAAAAAAAAAAAAAAAAAQAAAAEAAAAAAAAAAAAAAAAAAAAAAAAAAQAAAAAAAAAAAAAAAAAAAAAAAAAAAAAAAAAAAAAAAAAAAAAAAAAAAAAAAAAAAAAAAQAAAAAAAAAAAAAAAAAAAAAAAAABAAAAAQAAAAAAAAAAAAAAAAAAAAAAAAAAAAAAAAAAAAAAAAAAAAAAAAAAAAAAAAAAAAAAAAAAAAAAAAAAAAAAAAAAAAAAAAAAAAAAAAAAAAAAAAAAAAAAAAAAAAEAAAAAAAAAAQAAAAEAAAABAAAAAQAAAAAAAAAAAAAAAAAAAAAAAAAAAAAAAAAAAAAAAAAAAAAAAAAAAAAAAAAAAAAAAAAAAAAAAAAAAAAAAAAAAAAAAAAAAAAAAAAAAAAAAAAAAAAAAAAAAAAAAAAAAAAAAAAAAAEAAAAAAAAAAAAAAAAAAAAAAAAAAAAAAAAAAAAAAAAAAQAAAAAAAAAAAAAAAQAAAAAAAAAAAAAAAAAAAAAAAAABAAAAAAAAAAEAAAAAAAAAAAAAAAAAAAAAAAAAAAAAAAAAAAAAAAAAAAAAAAEAAAAAAAAAAAAAAAAAAAAAAAAAAAAAAAAAAAAAAAAAAAAAAAAAAAAAAAAAAAAAAAAAAAAAAAAAAAAAAAAAAAAAAAAAAQAAAAAAAAAAAAAAAAAAAAAAAAAAAAAAAAAAAAAAAAAAAAAAAAAAAAAAAAAAAAAAAQAAAAAAAAABAAAAAAAAAAAAAAAAAAAAAAAAAAAAAAABAAAAAAAAAAAAAAAAAAAAAAAAAAAAAAAAAAAAAAAAAAAAAAACAAAAAAAAAAAAAAAAAAAAAAAAAAAAAAABAAAAAAAAAAAAAAAAAAAAAAAAAAAAAAABAAAAAAAAAAAAAAAAAAAAAAAAAAAAAAAAAAAAAQAAAAAAAAABAAAAAAAAAAAAAAAAAAAAAQAAAAAAAAAAAAAAAQAAAAAAAAAAAAAAAAAAAAAAAAABAAAAAAAAAAAAAAAAAAAAAAAAAAAAAAAAAAAAAQAAAAAAAAABAAAAAAAAAAAAAAAAAAAAAAAAAAAAAAAAAAAAAAAAAAAAAAAAAAAAAAAAAAAAAAAAAAAAAAAAAAEAAAAAAAAAAQAAAAAAAAAAAAAAAAAAAAAAAAAAAAAAAAAAAAAAAAAAAAAAAAAAAAAAAAAAAAAAAAAAAAAAAAAAAAAAAAAAAAAAAAAAAAAAAAAAAAAAAAAAAAAAAAAAAAAAAAAAAAAAAAAAAAEAAAAAAAAAAAAAAAEAAAAAAAAAAAAAAAAAAAAAAAAAAQAAAAEAAAAAAAAAAAAAAAAAAAAAAAAAAAAAAAAAAAAAAAAAAQAAAAAAAAAAAAAAAAAAAAAAAAAAAAAAAAAAAAAAAAAAAAAAAAAAAAAAAAAAAAAAAAAAAAAAAAABAAAAAAAAAAAAAAAAAAAAAQAAAAAAAAAAAAAAAAAAAAAAAAAAAAAAAAAAAAEAAAAAAAAAAQAAAAAAAAAAAAAAAAAAAAAAAAAAAAAAAAAAAAEAAAAAAAAAAAAAAAAAAAAAAAAAAAAAAAAAAAABAAAAAAAAAAAAAAAAAAAAAAAAAAAAAAAAAAAAAAAAAAAAAAAAAAAAAQAAAAEAAAAAAAAAAAAAAAAAAAAAAAAAAAAAAAAAAAAAAAAAAAAAAAAAAAAAAAAAAAAAAAAAAAAAAAAAAAAAAAEAAAAAAAAAAAAAAAEAAAAAAAAAAAAAAAAAAAABAAAAAAAAAAAAAAAAAAAAAAAAAAAAAAABAAAAAAAAAAAAAAAAAAAAAAAAAAAAAAAAAAAAAQAAAAAAAAAAAAAAAAAAAAAAAAAAAAAAAAAAAAAAAAAAAAAAAgAAAAEAAAAAAAAAAAAAAAEAAAAAAAAAAQAAAAAAAAAAAAAAAAAAAAAAAAABAAAAAAAAAAAAAAAAAAAAAAAAAAAAAAAAAAAAAAAAAAAAAAAAAAAAAAAAAAAAAAAAAAAAAQAAAAAAAAAAAAAAAAAAAAAAAAAAAAAAAAAAAAAAAAAAAAAAAAAAAAAAAAAAAAAAAAAAAAEAAAABAAAAAAAAAAAAAAAAAAAAAAAAAAAAAAAAAAAAAAAAAAAAAAAAAAAAAQAAAAEAAAABAAAAAAAAAAAAAAAAAAAAAAAAAAAAAAAAAAAAAQAAAAEAAAAAAAAAAAAAAAAAAAABAAAAAAAAAAAAAAAAAAAAAAAAAAEAAAAAAAAAAAAAAAAAAAAAAAAAAAAAAAIAAAAAAAAAAAAAAAAAAAAAAAAAAAAAAAEAAAAAAAAAAAAAAAAAAAAAAAAAAAAAAAAAAAAAAAAAAAAAAAAAAAAAAAAAAAAAAAAAAAABAAAAAAAAAAAAAAAAAAAAAAAAAAAAAAAAAAAAAQAAAAAAAAAAAAAAAAAAAAAAAAAAAAAAAAAAAAAAAAAAAAAAAQAAAAAAAAAAAAAAAAAAAAAAAAABAAAAAAAAAAAAAAAAAAAAAAAAAAAAAAAAAAAAAQAAAAEAAAAAAAAAAAAAAAAAAAAAAAAAAAAAAAAAAAABAAAAAQAAAAAAAAABAAAAAAAAAAAAAAAAAAAAAAAAAAAAAAAAAAAAAQAAAAAAAAAAAAAAAAAAAAAAAAAAAAAAAAAAAAAAAAAAAAAAAAAAAAAAAAAAAAAAAQAAAAAAAAAAAAAAAAAAAAAAAAAAAAAAAQAAAAAAAAAAAAAAAAAAAAAAAAAAAAAAAAAAAAAAAAAAAAAAAAAAAAAAAAAAAAAAAAAAAAAAAAAAAAAAAAAAAAEAAAAAAAAAAAAAAAAAAAABAAAAAAAAAAAAAAAAAAAAAAAAAAAAAAAAAAAAAAAAAAAAAAAAAAAAAAAAAAAAAAAAAAAAAQAAAAEAAAAAAAAAAAAAAAAAAAABAAAAAAAAAAAAAAAAAAAAAAAAAAAAAAABAAAAAAAAAAEAAAAAAAAAAQAAAAAAAAAAAAAAAAAAAAAAAAABAAAAAQAAAAAAAAABAAAAAAAAAAAAAAAAAAAAAQAAAAEAAAAAAAAAAAAAAAAAAAAAAAAAAAAAAAAAAAAAAAAAAAAAAAAAAAAAAAAAAAAAAAAAAAAAAAAAAAAAAAEAAAABAAAAAQAAAAAAAAAAAAAAAAAAAAAAAAAAAAAAAAAAAAEAAAAAAAAAAAAAAAAAAAAAAAAAAAAAAAAAAAABAAAAAAAAAAEAAAAAAAAAAAAAAAAAAAAAAAAAAQAAAAEAAAAAAAAAAQAAAAEAAAAAAAAAAAAAAAAAAAAAAAAAAQAAAAAAAAAAAAAAAAAAAAAAAAAAAAAAAAAAAAAAAAAAAAAAAAAAAAEAAAABAAAAAAAAAAIAAAAAAAAAAAAAAAEAAAAAAAAAAgAAAAAAAAABAAAAAAAAAAAAAAAAAAAAAAAAAAAAAAABAAAAAAAAAAAAAAABAAAAAAAAAAEAAAAAAAAAAAAAAAAAAAAAAAAAAQAAAAAAAAAAAAAAAAAAAAAAAAAAAAAAAAAAAAAAAAABAAAAAAAAAAEAAAAAAAAAAAAAAAAAAAAAAAAAAAAAAAAAAAAAAAAAAQAAAAAAAAAAAAAAAAAAAAAAAAAAAAAAAAAAAAAAAAAAAAAAAAAAAAEAAAAAAAAAAAAAAAAAAAAAAAAAAAAAAAAAAAAAAAAAAAAAAAAAAAAAAAAAAAAAAAAAAAABAAAAAAAAAAEAAAAAAAAAAAAAAAAAAAABAAAAAQAAAAAAAAABAAAAAAAAAAAAAAAAAAAAAAAAAAAAAAAAAAAAAAAAAAAAAAAAAAAAAQAAAAAAAAABAAAAAAAAAAAAAAABAAAAAAAAAAEAAAAAAAAAAAAAAAAAAAABAAAAAAAAAAAAAAAAAAAAAAAAAAEAAAAAAAAAAAAAAAAAAAAAAAAAAAAAAAAAAAAAAAAAAAAAAAAAAAABAAAAAAAAAAAAAAAAAAAAAQAAAAAAAAAAAAAAAAAAAAAAAAAAAAAAAQAAAAAAAAAAAAAAAQAAAAAAAAAAAAAAAQAAAAAAAAAAAAAAAAAAAAAAAAAAAAAAAAAAAAAAAAAAAAAAAQAAAAAAAAAAAAAAAQAAAAAAAAAAAAAAAAAAAAEAAAABAAAAAQAAAAAAAAAAAAAAAAAAAAIAAAABAAAAAAAAAAAAAAAAAAAAAAAAAAAAAAAAAAAAAQAAAAAAAAAAAAAAAAAAAAAAAAAAAAAAAAAAAAAAAAAAAAAAAAAAAAAAAAABAAAAAAAAAAAAAAAAAAAAAQAAAAAAAAAAAAAAAAAAAAAAAAABAAAAAAAAAAAAAAAAAAAAAAAAAAAAAAAAAAAAAAAAAAAAAAAAAAAAAAAAAAAAAAAAAAAAAAAAAAAAAAAAAAAAAAAAAAAAAAABAAAAAQAAAAAAAAAAAAAAAAAAAAAAAAAAAAAAAAAAAAAAAAAAAAAAAAAAAAAAAAAAAAAAAAAAAAEAAAAAAAAAAQAAAAAAAAABAAAAAAAAAAEAAAAAAAAAAQAAAAAAAAAAAAAAAAAAAAAAAAABAAAAAAAAAAAAAAAAAAAAAAAAAAAAAAAAAAAAAQAAAAAAAAAAAAAAAAAAAAAAAAAAAAAAAQAAAAAAAAAAAAAAAQAAAAAAAAAAAAAAAAAAAAEAAAAAAAAAAAAAAAAAAAAAAAAAAQAAAAAAAAAAAAAAAAAAAAAAAAAAAAAAAAAAAAAAAAAAAAAAAAAAAAAAAAABAAAAAAAAAAAAAAAAAAAAAAAAAAEAAAAAAAAAAAAAAAEAAAAAAAAAAAAAAAAAAAAAAAAAAAAAAAAAAAAAAAAAAAAAAAAAAAAAAAAAAAAAAAEAAAAAAAAAAAAAAAAAAAAAAAAAAAAAAAAAAAAAAAAAAQAAAAAAAAAAAAAAAAAAAAAAAAAAAAAAAAAAAAAAAAAAAAAAAQAAAAEAAAAAAAAAAQAAAAAAAAAAAAAAAAAAAAAAAAAAAAAAAAAAAAAAAAABAAAAAAAAAAAAAAAAAAAAAAAAAAAAAAABAAAAAQAAAAEAAAAAAAAAAAAAAAEAAAAAAAAAAQAAAAEAAAAAAAAAAAAAAAAAAAAAAAAAAAAAAAAAAAAAAAAAAAAAAAEAAAAAAAAAAQAAAAEAAAAAAAAAAAAAAAAAAAAAAAAAAAAAAAAAAAAAAAAAAAAAAAAAAAABAAAAAAAAAAEAAAAAAAAAAAAAAAAAAAAAAAAAAQAAAAAAAAAAAAAAAAAAAAAAAAAAAAAAAAAAAAAAAAAAAAAAAAAAAAAAAAABAAAAAAAAAAAAAAAAAAAAAAAAAAAAAAAAAAAAAAAAAAAAAAAAAAAAAAAAAAIAAAABAAAAAAAAAAAAAAAAAAAAAAAAAAAAAAAAAAAAAAAAAAAAAAAAAAAAAAAAAAAAAAAAAAAAAAAAAAAAAAAAAAAAAAAAAAAAAAAAAAAAAQAAAAEAAAAAAAAAAAAAAAAAAAAAAAAAAAAAAAAAAAAAAAAAAAAAAAAAAAABAAAAAAAAAAAAAAAAAAAAAAAAAAEAAAAAAAAAAAAAAAAAAAAAAAAAAAAAAAAAAAABAAAAAAAAAAAAAAAAAAAAAAAAAAAAAAABAAAAAQAAAAAAAAAAAAAAAAAAAAAAAAABAAAAAAAAAAAAAAAAAAAAAAAAAAAAAAABAAAAAAAAAAAAAAAAAAAAAAAAAAEAAAABAAAAAAAAAAEAAAAAAAAAAAAAAAEAAAAAAAAAAQAAAAAAAAABAAAAAAAAAAAAAAAAAAAAAAAAAAAAAAAAAAAAAAAAAAAAAAAAAAAAAAAAAAEAAAAAAAAAAQAAAAEAAAABAAAAAAAAAAAAAAABAAAAAAAAAAAAAAAAAAAAAAAAAAAAAAAAAAAAAAAAAAAAAAAAAAAAAQAAAAAAAAAAAAAAAAAAAAAAAAAAAAAAAAAAAAAAAAAAAAAAAAAAAAEAAAAAAAAAAQAAAAAAAAAAAAAAAAAAAAEAAAAAAAAAAAAAAAAAAAAAAAAAAAAAAAAAAAAAAAAAAAAAAAAAAAAAAAAAAAAAAAEAAAAAAAAAAQAAAAAAAAAAAAAAAQAAAAAAAAAAAAAAAAAAAAAAAAAAAAAAAQAAAAEAAAAAAAAAAAAAAAAAAAAAAAAAAAAAAAAAAAAAAAAAAAAAAAAAAAAAAAAAAQAAAAAAAAAAAAAAAAAAAAAAAAAAAAAAAAAAAAAAAAABAAAAAAAAAAAAAAAAAAAAAQAAAAAAAAAAAAAAAAAAAAAAAAAAAAAAAAAAAAAAAAAAAAAAAAAAAAAAAAAAAAAAAAAAAAAAAAAAAAAAAQAAAAAAAAABAAAAAAAAAAAAAAAAAAAAAAAAAAAAAAABAAAAAAAAAAAAAAAAAAAAAAAAAAAAAAAAAAAAAAAAAAAAAAAAAAAAAAAAAAAAAAAAAAAAAAAAAAEAAAAAAAAAAAAAAAAAAAABAAAAAAAAAAEAAAAAAAAAAAAAAAEAAAAAAAAAAAAAAAAAAAAAAAAAAAAAAAAAAAAAAAAAAAAAAAAAAAAAAAAAAAAAAAEAAAAAAAAAAAAAAAAAAAAAAAAAAAAAAAEAAAAAAAAAAAAAAAAAAAAAAAAAAAAAAAAAAAABAAAAAAAAAAAAAAAAAAAAAAAAAAAAAAAAAAAAAAAAAAAAAAAAAAAAAAAAAAAAAAAAAAAAAAAAAAAAAAAAAAAAAAAAAAAAAAAAAAAAAAAAAAAAAAAAAAAAAAAAAAAAAAAAAAAAAAAAAAAAAAABAAAAAAAAAAAAAAAAAAAAAAAAAAAAAAAAAAAAAAAAAAAAAAAAAAAAAAAAAAEAAAAAAAAAAQAAAAEAAAAAAAAAAAAAAAAAAAAAAAAAAAAAAAAAAAAAAAAAAQAAAAEAAAAAAAAAAAAAAAAAAAACAAAAAAAAAAAAAAAAAAAAAQAAAAAAAAABAAAAAAAAAAAAAAAAAAAAAAAAAAAAAAAAAAAAAAAAAAAAAAAAAAAAAQAAAAEAAAAAAAAAAgAAAAAAAAAAAAAAAAAAAAAAAAAAAAAAAAAAAAAAAAAAAAAAAAAAAAAAAAAAAAAAAAAAAAAAAAABAAAAAAAAAAAAAAAAAAAAAAAAAAAAAAABAAAAAAAAAAAAAAAAAAAAAQAAAAAAAAAAAAAAAAAAAAAAAAAAAAAAAAAAAAAAAAAAAAAAAAAAAAEAAAAAAAAAAAAAAAAAAAAAAAAAAAAAAAEAAAABAAAAAAAAAAAAAAAAAAAAAAAAAAAAAAAAAAAAAAAAAAAAAAAAAAAAAQAAAAAAAAAAAAAAAQAAAAAAAAAAAAAAAAAAAAEAAAAAAAAAAAAAAAAAAAABAAAAAAAAAAAAAAABAAAAAAAAAAAAAAAAAAAAAAAAAAAAAAABAAAAAQAAAAAAAAAAAAAAAAAAAAAAAAAAAAAAAQAAAAAAAAAAAAAAAAAAAAAAAAAAAAAAAAAAAAAAAAAAAAAAAAAAAAAAAAAAAAAAAAAAAAAAAAAAAAAAAAAAAAAAAAAAAAAAAAAAAAEAAAABAAAAAAAAAAAAAAABAAAAAAAAAAAAAAAAAAAAAAAAAAAAAAAAAAAAAAAAAAAAAAAAAAAAAAAAAAAAAAAAAAAAAAAAAAEAAAAAAAAAAAAAAAEAAAAAAAAAAAAAAAAAAAAAAAAAAAAAAAAAAAAAAAAAAAAAAAAAAAAAAAAAAAAAAAAAAAAAAAAAAAAAAAAAAAAAAAAAAAAAAAAAAAAAAAAAAAAAAAAAAAAAAAAAAAAAAAAAAAAAAAAAAQAAAAEAAAAAAAAAAAAAAAAAAAAAAAAAAAAAAAAAAAAAAAAAAAAAAAAAAAAAAAAAAAAAAAAAAAAAAAAAAAAAAAAAAAAAAAAAAQAAAAEAAAAAAAAAAAAAAAAAAAAAAAAAAAAAAAAAAAAAAAAAAQAAAAAAAAAAAAAAAAAAAAAAAAABAAAAAQAAAAAAAAABAAAAAAAAAAEAAAAAAAAAAQAAAAAAAAAAAAAAAAAAAAAAAAAAAAAAAgAAAAAAAAAAAAAAAAAAAAAAAAAAAAAAAAAAAAAAAAAAAAAAAAAAAAAAAAAAAAAAAAAAAAAAAAAAAAAAAAAAAAAAAAAAAAAAAAAAAAAAAAAAAAAAAAAAAAAAAAAAAAAAAAAAAAAAAAAAAAAAAAAAAAAAAAAAAAAAAQAAAAAAAAAAAAAAAQAAAAEAAAAAAAAAAAAAAAAAAAAAAAAAAQAAAAAAAAAAAAAAAAAAAAEAAAAAAAAAAQAAAAAAAAAAAAAAAAAAAAAAAAAAAAAAAQAAAAAAAAAAAAAAAAAAAAAAAAAAAAAAAAAAAAAAAAAAAAAAAAAAAAAAAAAAAAAAAAAAAAAAAAAAAAAAAAAAAAAAAAAAAAAAAQAAAAAAAAAAAAAAAAAAAAAAAAAAAAAAAAAAAAAAAAAAAAAAAAAAAAAAAAAAAAAAAAAAAAAAAAAAAAAAAAAAAAAAAAAAAAAAAAAAAAAAAAAAAAAAAAAAAAAAAAAAAAAAAAAAAAEAAAAAAAAAAAAAAAAAAAAAAAAAAAAAAAAAAAAAAAAAAQAAAAAAAAAAAAAAAAAAAAAAAAAAAAAAAAAAAAAAAAAAAAAAAQAAAAAAAAAAAAAAAAAAAAAAAAAAAAAAAAAAAAAAAAAAAAAAAAAAAAEAAAAAAAAAAQAAAAAAAAAAAAAAAAAAAAAAAAAAAAAAAAAAAAAAAAAAAAAAAQAAAAAAAAABAAAAAAAAAAAAAAABAAAAAAAAAAAAAAAAAAAAAAAAAAAAAAAAAAAAAQAAAAEAAAAAAAAAAAAAAAAAAAAAAAAAAQAAAAAAAAAAAAAAAAAAAAAAAAAAAAAAAQAAAAAAAAABAAAAAAAAAAAAAAAAAAAAAAAAAAAAAAAAAAAAAAAAAAAAAAAAAAAAAAAAAAEAAAAAAAAAAQAAAAAAAAAAAAAAAAAAAAAAAAAAAAAAAAAAAAEAAAAAAAAAAAAAAAAAAAAAAAAAAAAAAAAAAAAAAAAAAAAAAAAAAAABAAAAAAAAAAEAAAAAAAAAAAAAAAAAAAAAAAAAAAAAAAAAAAAAAAAAAAAAAAAAAAAAAAAAAAAAAAAAAAAAAAAAAAAAAAAAAAAAAAAAAAAAAAAAAAAAAAAAAQAAAAEAAAAAAAAAAAAAAAAAAAABAAAAAAAAAAAAAAAAAAAAAAAAAAEAAAAAAAAAAQAAAAAAAAAAAAAAAAAAAAAAAAABAAAAAAAAAAAAAAAAAAAAAAAAAAEAAAAAAAAAAQAAAAAAAAAAAAAAAAAAAAAAAAABAAAAAAAAAAAAAAAAAAAAAAAAAAAAAAAAAAAAAAAAAAAAAAAAAAAAAAAAAAAAAAAAAAAAAAAAAAAAAAAAAAAAAAAAAAEAAAAAAAAAAAAAAAAAAAAAAAAAAAAAAAAAAAAAAAAAAAAAAAEAAAAAAAAAAAAAAAAAAAAAAAAAAAAAAAAAAAAAAAAAAAAAAAAAAAAAAAAAAQAAAAAAAAAAAAAAAAAAAAAAAAABAAAAAAAAAAEAAAAAAAAAAAAAAAAAAAAAAAAAAAAAAAAAAAAAAAAAAAAAAAEAAAAAAAAAAAAAAAAAAAAAAAAAAAAAAAAAAAABAAAAAAAAAAAAAAAAAAAAAAAAAAAAAAAAAAAAAQAAAAAAAAAAAAAAAAAAAAAAAAAAAAAAAQAAAAEAAAAAAAAAAAAAAAAAAAAAAAAAAAAAAAAAAAAAAAAAAAAAAAEAAAABAAAAAAAAAAEAAAAAAAAAAAAAAAAAAAAAAAAAAAAAAAAAAAAAAAAAAAAAAAAAAAABAAAAAAAAAAAAAAAAAAAAAAAAAAAAAAAAAAAAAAAAAAAAAAAAAAAAAAAAAAEAAAAAAAAAAAAAAAAAAAAAAAAAAAAAAAAAAAABAAAAAAAAAAAAAAAAAAAAAAAAAAAAAAAAAAAAAQAAAAEAAAAAAAAAAAAAAAAAAAAAAAAAAAAAAAEAAAAAAAAAAAAAAAAAAAAAAAAAAAAAAAAAAAAAAAAAAAAAAAAAAAAAAAAAAAAAAAEAAAAAAAAAAAAAAAAAAAAAAAAAAAAAAAAAAAAAAAAAAAAAAAEAAAAAAAAAAAAAAAAAAAAAAAAAAAAAAAEAAAAAAAAAAAAAAAAAAAAAAAAAAQAAAAAAAAABAAAAAAAAAAAAAAAAAAAAAQAAAAAAAAAAAAAAAAAAAAAAAAAAAAAAAQAAAAAAAAAAAAAAAAAAAAEAAAAAAAAAAAAAAAAAAAAAAAAAAAAAAAAAAAAAAAAAAAAAAAAAAAAAAAAAAAAAAAAAAAAAAAAAAAAAAAAAAAAAAAAAAAAAAAEAAAAAAAAAAQAAAAAAAAAAAAAAAQAAAAAAAAABAAAAAAAAAAAAAAAAAAAAAAAAAAAAAAAAAAAAAAAAAAAAAAAAAAAAAQAAAAAAAAAAAAAAAAAAAAAAAAABAAAAAAAAAAAAAAAAAAAAAAAAAAAAAAAAAAAAAAAAAAAAAAAAAAAAAAAAAAEAAAABAAAAAAAAAAAAAAAAAAAAAAAAAAAAAAAAAAAAAAAAAAEAAAAAAAAAAQAAAAAAAAAAAAAAAAAAAAAAAAAAAAAAAQAAAAAAAAABAAAAAAAAAAAAAAAAAAAAAAAAAAAAAAAAAAAAAQAAAAAAAAAAAAAAAQAAAAAAAAAAAAAAAAAAAAAAAAAAAAAAAAAAAAAAAAABAAAAAAAAAAEAAAAAAAAAAAAAAAEAAAAAAAAAAAAAAAEAAAAAAAAAAAAAAAAAAAAAAAAAAAAAAAAAAAAAAAAAAgAAAAAAAAAAAAAAAQAAAAAAAAAAAAAAAAAAAAAAAAAAAAAAAAAAAAAAAAAAAAAAAAAAAAAAAAAAAAAAAAAAAAAAAAAAAAAAAAAAAAAAAAAAAAAAAQAAAAAAAAAAAAAAAAAAAAAAAAAAAAAAAAAAAAAAAAAAAAAAAAAAAAEAAAAAAAAAAAAAAAAAAAAAAAAAAAAAAAAAAAAAAAAAAAAAAAAAAAAAAAAAAAAAAAAAAAAAAAAAAAAAAAAAAAAAAAAAAAAAAAAAAAAAAAAAAAAAAAAAAAAAAAAAAQAAAAAAAAAAAAAAAAAAAAAAAAAAAAAAAAAAAAEAAAAAAAAAAAAAAAAAAAAAAAAAAAAAAAAAAAAAAAAAAAAAAAAAAAABAAAAAAAAAAAAAAABAAAAAQAAAAAAAAAAAAAAAAAAAAAAAAAAAAAAAAAAAAAAAAABAAAAAAAAAAEAAAAAAAAAAAAAAAAAAAAAAAAAAAAAAAAAAAAAAAAAAQAAAAAAAAAAAAAAAAAAAAEAAAAAAAAAAAAAAAAAAAABAAAAAAAAAAAAAAAAAAAAAAAAAAAAAAAAAAAAAAAAAAAAAAAAAAAAAAAAAAEAAAAAAAAAAAAAAAAAAAAAAAAAAAAAAAEAAAABAAAAAAAAAAAAAAAAAAAAAQAAAAAAAAAAAAAAAAAAAAAAAAAAAAAAAAAAAAAAAAAAAAAAAAAAAAAAAAAAAAAAAAAAAAEAAAAAAAAAAAAAAAAAAAAAAAAAAAAAAAAAAAAAAAAAAQAAAAAAAAAAAAAAAAAAAAAAAAAAAAAAAAAAAAAAAAAAAAAAAAAAAAAAAAAAAAAAAAAAAAAAAAAAAAAAAQAAAAEAAAAAAAAAAAAAAAAAAAAAAAAAAAAAAAAAAAAAAAAAAAAAAAEAAAAAAAAAAAAAAAEAAAAAAAAAAAAAAAEAAAAAAAAAAAAAAAAAAAAAAAAAAAAAAAAAAAAAAAAAAAAAAAAAAAAAAAAAAAAAAAAAAAAAAAAAAAAAAAAAAAAAAAAAAQAAAAAAAAAAAAAAAAAAAAAAAAABAAAAAAAAAAAAAAAAAAAAAAAAAAAAAAAAAAAAAQAAAAAAAAAAAAAAAAAAAAAAAAAAAAAAAAAAAAAAAAABAAAAAQAAAAAAAAABAAAAAAAAAAAAAAAAAAAAAAAAAAAAAAAAAAAAAAAAAAAAAAAAAAAAAAAAAAAAAAAAAAAAAAAAAAAAAAAAAAAAAAAAAAEAAAAAAAAAAAAAAAAAAAAAAAAAAQAAAAEAAAAAAAAAAAAAAAAAAAAAAAAAAQAAAAAAAAAAAAAAAAAAAAAAAAAAAAAAAAAAAAAAAAAAAAAAAAAAAAAAAAAAAAAAAAAAAAAAAAAAAAAAAAAAAAAAAAAAAAAAAAAAAAAAAAABAAAAAAAAAAAAAAAAAAAAAAAAAAAAAAABAAAAAAAAAAAAAAAAAAAAAAAAAAAAAAABAAAAAAAAAAAAAAAAAAAAAAAAAAAAAAAAAAAAAAAAAAAAAAAAAAAAAgAAAAAAAAAAAAAAAAAAAAEAAAAAAAAAAAAAAAAAAAAAAAAAAAAAAAAAAAAAAAAAAAAAAAEAAAAAAAAAAAAAAAAAAAAAAAAAAAAAAAAAAAAAAAAAAAAAAAAAAAAAAAAAAAAAAAAAAAAAAAAAAAAAAAEAAAAAAAAAAAAAAAAAAAAAAAAAAAAAAAAAAAAAAAAAAAAAAAAAAAAAAAAAAAAAAAEAAAAAAAAAAAAAAAAAAAAAAAAAAAAAAAAAAAAAAAAAAAAAAAAAAAAAAAAAAAAAAAAAAAAAAAAAAAAAAAAAAAABAAAAAAAAAAAAAAAAAAAAAAAAAAAAAAAAAAAAAAAAAAAAAAAAAAAAAAAAAAAAAAAAAAAAAAAAAAAAAAAAAAAAAAAAAAEAAAABAAAAAAAAAAAAAAAAAAAAAAAAAAAAAAAAAAAAAAAAAAAAAAAAAAAAAAAAAAAAAAAAAAAAAQAAAAAAAAAAAAAAAAAAAAEAAAAAAAAAAAAAAAEAAAAAAAAAAQAAAAAAAAAAAAAAAAAAAAAAAAAAAAAAAAAAAAAAAAABAAAAAAAAAAAAAAAAAAAAAAAAAAAAAAAAAAAAAAAAAAAAAAAAAAAAAAAAAAAAAAAAAAAAAQAAAAAAAAAAAAAAAAAAAAAAAAAAAAAAAAAAAAAAAAAAAAAAAAAAAAAAAAABAAAAAQAAAAAAAAAAAAAAAAAAAAAAAAAAAAAAAAAAAAAAAAAAAAAAAAAAAAAAAAAAAAAAAAAAAAAAAAAAAAAAAQAAAAAAAAAAAAAAAAAAAAEAAAAAAAAAAAAAAAEAAAAAAAAAAAAAAAAAAAAAAAAAAAAAAAAAAAAAAAAAAAAAAAEAAAAAAAAAAAAAAAEAAAABAAAAAAAAAAAAAAAAAAAAAAAAAAAAAAAAAAAAAAAAAAAAAAAAAAAAAQAAAAAAAAABAAAAAAAAAAAAAAABAAAAAAAAAAAAAAAAAAAAAAAAAAEAAAAAAAAAAQAAAAAAAAAAAAAAAAAAAAAAAAAAAAAAAAAAAAAAAAAAAAAAAQAAAAEAAAABAAAAAAAAAAAAAAAAAAAAAQAAAAAAAAABAAAAAQAAAAAAAAAAAAAAAAAAAAEAAAAAAAAAAQAAAAAAAAAAAAAAAQAAAAAAAAAAAAAAAAAAAAAAAAAAAAAAAQAAAAAAAAAAAAAAAAAAAAAAAAAAAAAAAAAAAAAAAAABAAAAAQAAAAEAAAABAAAAAAAAAAAAAAAAAAAAAAAAAAAAAAAAAAAAAAAAAAAAAAAAAAAAAAAAAAAAAAAAAAAAAAAAAAAAAAABAAAAAAAAAAAAAAABAAAAAAAAAAAAAAAAAAAAAAAAAAAAAAAAAAAAAQAAAAAAAAAAAAAAAAAAAAEAAAAAAAAAAAAAAAEAAAAAAAAAAAAAAAAAAAABAAAAAQAAAAAAAAAAAAAAAQAAAAAAAAAAAAAAAAAAAAAAAAAAAAAAAAAAAAAAAAAAAAAAAAAAAAAAAAAAAAAAAAAAAAAAAAAAAAAAAQAAAAEAAAAAAAAAAQAAAAEAAAAAAAAAAAAAAAAAAAAAAAAAAAAAAAAAAAAAAAAAAAAAAAAAAAAAAAAAAAAAAAAAAAAAAAAAAQAAAAAAAAABAAAAAAAAAAAAAAABAAAAAAAAAAAAAAAAAAAAAAAAAAAAAAAAAAAAAAAAAAAAAAAAAAAAAAAAAAAAAAAAAAAAAAAAAAAAAAAAAAAAAQAAAAAAAAABAAAAAAAAAAAAAAAAAAAAAAAAAAAAAAAAAAAAAAAAAAAAAAAAAAAAAAAAAAAAAAAAAAAAAAAAAAAAAAAAAAAAAAAAAAAAAAAAAAAAAAAAAAAAAAABAAAAAQAAAAAAAAAAAAAAAAAAAAEAAAABAAAAAAAAAAAAAAAAAAAAAAAAAAAAAAAAAAAAAAAAAAAAAAABAAAAAAAAAAAAAAAAAAAAAQAAAAEAAAAAAAAAAQAAAAAAAAAAAAAAAAAAAAAAAAAAAAAAAAAAAAEAAAAAAAAAAQAAAAAAAAAAAAAAAAAAAAAAAAAAAAAAAAAAAAAAAAABAAAAAAAAAAAAAAAAAAAAAAAAAAAAAAAAAAAAAAAAAAAAAAABAAAAAAAAAAAAAAAAAAAAAAAAAAAAAAAAAAAAAQAAAAAAAAAAAAAAAQAAAAAAAAABAAAAAAAAAAEAAAAAAAAAAAAAAAAAAAAAAAAAAAAAAAAAAAAAAAAAAAAAAAEAAAAAAAAAAAAAAAAAAAAAAAAAAAAAAAAAAAAAAAAAAAAAAAEAAAAAAAAAAAAAAAAAAAAAAAAAAAAAAAAAAAAAAAAAAAAAAAAAAAAAAAAAAAAAAAAAAAAAAAAAAAAAAAAAAAAAAAAAAAAAAAAAAAAAAAAAAAAAAAAAAAAAAAAAAAAAAAEAAAAAAAAAAAAAAAAAAAAAAAAAAAAAAAAAAAABAAAAAAAAAAEAAAAAAAAAAQAAAAAAAAABAAAAAQAAAAAAAAABAAAAAAAAAAAAAAAAAAAAAAAAAAAAAAAAAAAAAAAAAAAAAAAAAAAAAAAAAAAAAAABAAAAAAAAAAEAAAABAAAAAAAAAAAAAAAAAAAAAAAAAAAAAAAAAAAAAAAAAAAAAAABAAAAAAAAAAAAAAAAAAAAAQAAAAAAAAAAAAAAAAAAAAAAAAAAAAAAAAAAAAAAAAAAAAAAAAAAAAAAAAAAAAAAAQAAAAEAAAAAAAAAAAAAAAAAAAABAAAAAAAAAAAAAAAAAAAAAAAAAAAAAAAAAAAAAAAAAAAAAAAAAAAAAAAAAAAAAAAAAAAAAAAAAAEAAAABAAAAAAAAAAEAAAAAAAAAAAAAAAAAAAAAAAAAAAAAAAEAAAAAAAAAAAAAAAAAAAAAAAAAAAAAAAAAAAABAAAAAAAAAAAAAAABAAAAAAAAAAAAAAABAAAAAAAAAAAAAAAAAAAAAAAAAAAAAAABAAAAAAAAAAAAAAAAAAAAAQAAAAAAAAABAAAAAAAAAAAAAAABAAAAAAAAAAEAAAAAAAAAAAAAAAAAAAAAAAAAAAAAAAEAAAAAAAAAAAAAAAEAAAAAAAAAAAAAAAAAAAAAAAAAAAAAAAAAAAABAAAAAAAAAAAAAAABAAAAAAAAAAAAAAAAAAAAAAAAAAAAAAAAAAAAAAAAAAAAAAAAAAAAAAAAAAAAAAAAAAAAAAAAAAAAAAAAAAAAAAAAAAAAAAAAAAAAAAAAAAAAAAAAAAAAAAAAAAAAAAAAAAAAAAAAAAAAAAAAAAAAAQAAAAAAAAAAAAAAAQAAAAAAAAAAAAAAAAAAAAAAAAAAAAAAAAAAAAAAAAABAAAAAAAAAAAAAAAAAAAAAAAAAAEAAAABAAAAAAAAAAAAAAAAAAAAAAAAAAAAAAAAAAAAAAAAAAAAAAAAAAAAAAAAAAAAAAAAAAAAAQAAAAAAAAABAAAAAAAAAAAAAAAAAAAAAAAAAAEAAAAAAAAAAAAAAAAAAAAAAAAAAAAAAAAAAAAAAAAAAAAAAAAAAAAAAAAAAAAAAAAAAAABAAAAAQAAAAAAAAABAAAAAAAAAAAAAAABAAAAAAAAAAAAAAAAAAAAAAAAAAEAAAAAAAAAAQAAAAAAAAAAAAAAAAAAAAAAAAAAAAAAAAAAAAAAAAABAAAAAAAAAAAAAAAAAAAAAQAAAAAAAAAAAAAAAAAAAAEAAAAAAAAAAAAAAAAAAAAAAAAAAAAAAAAAAAAAAAAAAQAAAAAAAAAAAAAAAQAAAAAAAAABAAAAAAAAAAEAAAAAAAAAAAAAAAEAAAAAAAAAAQAAAAAAAAAAAAAAAAAAAAAAAAAAAAAAAQAAAAAAAAAAAAAAAAAAAAAAAAAAAAAAAAAAAAEAAAACAAAAAQAAAAAAAAAAAAAAAAAAAAAAAAAAAAAAAAAAAAAAAAAAAAAAAAAAAAAAAAAAAAAAAAAAAAAAAAAAAAAAAAAAAAAAAAAAAAAAAAAAAAAAAAAAAAAAAAAAAAAAAAAAAAAAAQAAAAEAAAAAAAAAAAAAAAAAAAAAAAAAAAAAAAAAAAAAAAAAAAAAAAAAAAAAAAAAAAAAAAAAAAAAAAAAAQAAAAAAAAACAAAAAQAAAAAAAAAAAAAAAAAAAAAAAAAAAAAAAQAAAAAAAAAAAAAAAAAAAAAAAAAAAAAAAAAAAAAAAAAAAAAAAQAAAAEAAAAAAAAAAAAAAAAAAAAAAAAAAAAAAAAAAAAAAAAAAAAAAAAAAAAAAAAAAAAAAAAAAAAAAAAAAAAAAAAAAAAAAAAAAAAAAAAAAAAAAAAAAAAAAAAAAAAAAAAAAAAAAAAAAAABAAAAAAAAAAAAAAAAAAAAAAAAAAAAAAABAAAAAAAAAAAAAAAAAAAAAQAAAAAAAAAAAAAAAAAAAAAAAAAAAAAAAAAAAAAAAAABAAAAAAAAAAAAAAABAAAAAAAAAAAAAAAAAAAAAQAAAAAAAAAAAAAAAAAAAAAAAAABAAAAAAAAAAEAAAAAAAAAAAAAAAAAAAAAAAAAAAAAAAAAAAAAAAAAAAAAAAAAAAAAAAAAAAAAAAEAAAAAAAAAAAAAAAAAAAABAAAAAAAAAAAAAAAAAAAAAAAAAAAAAAAAAAAAAQAAAAAAAAAAAAAAAAAAAAAAAAAAAAAAAQAAAAEAAAAAAAAAAAAAAAEAAAAAAAAAAAAAAAEAAAAAAAAAAQAAAAAAAAAAAAAAAAAAAAAAAAABAAAAAAAAAAAAAAAAAAAAAQAAAAAAAAABAAAAAAAAAAEAAAAAAAAAAAAAAAAAAAABAAAAAAAAAAEAAAABAAAAAQAAAAAAAAAAAAAAAAAAAAAAAAAAAAAAAQAAAAAAAAAAAAAAAAAAAAAAAAAAAAAAAAAAAAAAAAABAAAAAQAAAAAAAAAAAAAAAAAAAAAAAAAAAAAAAAAAAAEAAAAAAAAAAQAAAAAAAAAAAAAAAAAAAAAAAAABAAAAAAAAAAAAAAABAAAAAAAAAAAAAAAAAAAAAAAAAAEAAAAAAAAAAAAAAAAAAAABAAAAAAAAAAEAAAAAAAAAAAAAAAAAAAABAAAAAAAAAAEAAAABAAAAAAAAAAAAAAAAAAAAAAAAAAAAAAAAAAAAAAAAAAAAAAABAAAAAAAAAAAAAAAAAAAAAAAAAAAAAAAAAAAAAAAAAAAAAAAAAAAAAAAAAAAAAAAAAAAAAAAAAAAAAAABAAAAAAAAAAAAAAAAAAAAAAAAAAAAAAABAAAAAQAAAAAAAAAAAAAAAAAAAAEAAAABAAAAAAAAAAAAAAAAAAAAAAAAAAEAAAAAAAAAAAAAAAAAAAAAAAAAAAAAAAAAAAAAAAAAAQAAAAEAAAAAAAAAAgAAAAAAAAAAAAAAAAAAAAEAAAAAAAAAAAAAAAAAAAAAAAAAAQAAAAEAAAAAAAAAAAAAAAEAAAAAAAAAAQAAAAAAAAABAAAAAAAAAAAAAAAAAAAAAQAAAAAAAAAAAAAAAAAAAAAAAAAAAAAAAAAAAAAAAAAAAAAAAAAAAAAAAAAAAAAAAAAAAAAAAAAAAAAAAAAAAAAAAAAAAAAAAAAAAAAAAAAAAAAAAAAAAAAAAAAAAAAAAAAAAAAAAAAAAAAAAAAAAAAAAAAAAAAAAAAAAAAAAAAAAAAAAAAAAAAAAAAAAAAAAAAAAAEAAAAAAAAAAAAAAAEAAAAAAAAAAAAAAAAAAAAAAAAAAAAAAAAAAAAAAAAAAAAAAAAAAAAAAAAAAQAAAAAAAAAAAAAAAAAAAAAAAAAAAAAAAQAAAAAAAAAAAAAAAQAAAAAAAAAAAAAAAAAAAAAAAAAAAAAAAQAAAAAAAAAAAAAAAQAAAAAAAAAAAAAAAAAAAAAAAAAAAAAAAAAAAAAAAAAAAAAAAQAAAAAAAAAAAAAAAAAAAAAAAAAAAAAAAAAAAAAAAAAAAAAAAAAAAAAAAAAAAAAAAAAAAAAAAAAAAAAAAAAAAAAAAAAAAAAAAAAAAAAAAAAAAAAAAAAAAAAAAAAAAAAAAAAAAAAAAAAAAAAAAAAAAAAAAAAAAAAAAAAAAAAAAAAAAAAAAAAAAAAAAAAAAAAAAAAAAAAAAAAAAAAAAAAAAAAAAAAAAAAAAAAAAAEAAAAAAAAAAAAAAAEAAAAAAAAAAAAAAAAAAAAAAAAAAQAAAAAAAAAAAAAAAAAAAAEAAAAAAAAAAAAAAAEAAAAAAAAAAAAAAAAAAAAAAAAAAAAAAAAAAAABAAAAAAAAAAEAAAABAAAAAAAAAAAAAAAAAAAAAAAAAAAAAAAAAAAAAAAAAAEAAAAAAAAAAAAAAAAAAAAAAAAAAQAAAAAAAAAAAAAAAgAAAAAAAAAAAAAAAAAAAAAAAAABAAAAAAAAAAAAAAAAAAAAAAAAAAAAAAAAAAAAAQAAAAAAAAAAAAAAAAAAAAEAAAAAAAAAAAAAAAAAAAAAAAAAAAAAAAAAAAAAAAAAAAAAAAAAAAABAAAAAAAAAAAAAAABAAAAAQAAAAAAAAAAAAAAAAAAAAAAAAAAAAAAAAAAAAAAAAAAAAAAAAAAAAAAAAAAAAAAAAAAAAAAAAAAAAAAAAAAAAAAAAAAAAAAAAAAAAAAAAABAAAAAAAAAAAAAAAAAAAAAAAAAAAAAAABAAAAAQAAAAAAAAAAAAAAAAAAAAAAAAAAAAAAAAAAAAAAAAAAAAAAAAAAAAAAAAAAAAAAAAAAAAEAAAAAAAAAAAAAAAAAAAAAAAAAAAAAAAAAAAABAAAAAAAAAAAAAAAAAAAAAAAAAAAAAAAAAAAAAAAAAAEAAAAAAAAAAAAAAAEAAAAAAAAAAQAAAAEAAAAAAAAAAAAAAAEAAAABAAAAAAAAAAAAAAAAAAAAAAAAAAAAAAAAAAAAAAAAAAAAAAABAAAAAAAAAAEAAAAAAAAAAAAAAAAAAAAAAAAAAAAAAAAAAAAAAAAAAQAAAAAAAAAAAAAAAAAAAAAAAAAAAAAAAAAAAAAAAAAAAAAAAAAAAAEAAAAAAAAAAAAAAAAAAAAAAAAAAAAAAAAAAAAAAAAAAAAAAAEAAAAAAAAA"
          },
          "coloraxis": "coloraxis",
          "symbol": "circle"
         },
         "mode": "markers",
         "name": "",
         "showlegend": false,
         "x": {
          "dtype": "f8",
          "bdata": "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"
         },
         "xaxis": "x",
         "y": {
          "dtype": "f8",
          "bdata": "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"
         },
         "yaxis": "y",
         "type": "scattergl"
        }
       ],
       "layout": {
        "template": {
         "data": {
          "histogram2dcontour": [
           {
            "type": "histogram2dcontour",
            "colorbar": {
             "outlinewidth": 0,
             "ticks": ""
            },
            "colorscale": [
             [
              0.0,
              "#0d0887"
             ],
             [
              0.1111111111111111,
              "#46039f"
             ],
             [
              0.2222222222222222,
              "#7201a8"
             ],
             [
              0.3333333333333333,
              "#9c179e"
             ],
             [
              0.4444444444444444,
              "#bd3786"
             ],
             [
              0.5555555555555556,
              "#d8576b"
             ],
             [
              0.6666666666666666,
              "#ed7953"
             ],
             [
              0.7777777777777778,
              "#fb9f3a"
             ],
             [
              0.8888888888888888,
              "#fdca26"
             ],
             [
              1.0,
              "#f0f921"
             ]
            ]
           }
          ],
          "choropleth": [
           {
            "type": "choropleth",
            "colorbar": {
             "outlinewidth": 0,
             "ticks": ""
            }
           }
          ],
          "histogram2d": [
           {
            "type": "histogram2d",
            "colorbar": {
             "outlinewidth": 0,
             "ticks": ""
            },
            "colorscale": [
             [
              0.0,
              "#0d0887"
             ],
             [
              0.1111111111111111,
              "#46039f"
             ],
             [
              0.2222222222222222,
              "#7201a8"
             ],
             [
              0.3333333333333333,
              "#9c179e"
             ],
             [
              0.4444444444444444,
              "#bd3786"
             ],
             [
              0.5555555555555556,
              "#d8576b"
             ],
             [
              0.6666666666666666,
              "#ed7953"
             ],
             [
              0.7777777777777778,
              "#fb9f3a"
             ],
             [
              0.8888888888888888,
              "#fdca26"
             ],
             [
              1.0,
              "#f0f921"
             ]
            ]
           }
          ],
          "heatmap": [
           {
            "type": "heatmap",
            "colorbar": {
             "outlinewidth": 0,
             "ticks": ""
            },
            "colorscale": [
             [
              0.0,
              "#0d0887"
             ],
             [
              0.1111111111111111,
              "#46039f"
             ],
             [
              0.2222222222222222,
              "#7201a8"
             ],
             [
              0.3333333333333333,
              "#9c179e"
             ],
             [
              0.4444444444444444,
              "#bd3786"
             ],
             [
              0.5555555555555556,
              "#d8576b"
             ],
             [
              0.6666666666666666,
              "#ed7953"
             ],
             [
              0.7777777777777778,
              "#fb9f3a"
             ],
             [
              0.8888888888888888,
              "#fdca26"
             ],
             [
              1.0,
              "#f0f921"
             ]
            ]
           }
          ],
          "contourcarpet": [
           {
            "type": "contourcarpet",
            "colorbar": {
             "outlinewidth": 0,
             "ticks": ""
            }
           }
          ],
          "contour": [
           {
            "type": "contour",
            "colorbar": {
             "outlinewidth": 0,
             "ticks": ""
            },
            "colorscale": [
             [
              0.0,
              "#0d0887"
             ],
             [
              0.1111111111111111,
              "#46039f"
             ],
             [
              0.2222222222222222,
              "#7201a8"
             ],
             [
              0.3333333333333333,
              "#9c179e"
             ],
             [
              0.4444444444444444,
              "#bd3786"
             ],
             [
              0.5555555555555556,
              "#d8576b"
             ],
             [
              0.6666666666666666,
              "#ed7953"
             ],
             [
              0.7777777777777778,
              "#fb9f3a"
             ],
             [
              0.8888888888888888,
              "#fdca26"
             ],
             [
              1.0,
              "#f0f921"
             ]
            ]
           }
          ],
          "surface": [
           {
            "type": "surface",
            "colorbar": {
             "outlinewidth": 0,
             "ticks": ""
            },
            "colorscale": [
             [
              0.0,
              "#0d0887"
             ],
             [
              0.1111111111111111,
              "#46039f"
             ],
             [
              0.2222222222222222,
              "#7201a8"
             ],
             [
              0.3333333333333333,
              "#9c179e"
             ],
             [
              0.4444444444444444,
              "#bd3786"
             ],
             [
              0.5555555555555556,
              "#d8576b"
             ],
             [
              0.6666666666666666,
              "#ed7953"
             ],
             [
              0.7777777777777778,
              "#fb9f3a"
             ],
             [
              0.8888888888888888,
              "#fdca26"
             ],
             [
              1.0,
              "#f0f921"
             ]
            ]
           }
          ],
          "mesh3d": [
           {
            "type": "mesh3d",
            "colorbar": {
             "outlinewidth": 0,
             "ticks": ""
            }
           }
          ],
          "scatter": [
           {
            "fillpattern": {
             "fillmode": "overlay",
             "size": 10,
             "solidity": 0.2
            },
            "type": "scatter"
           }
          ],
          "parcoords": [
           {
            "type": "parcoords",
            "line": {
             "colorbar": {
              "outlinewidth": 0,
              "ticks": ""
             }
            }
           }
          ],
          "scatterpolargl": [
           {
            "type": "scatterpolargl",
            "marker": {
             "colorbar": {
              "outlinewidth": 0,
              "ticks": ""
             }
            }
           }
          ],
          "bar": [
           {
            "error_x": {
             "color": "#2a3f5f"
            },
            "error_y": {
             "color": "#2a3f5f"
            },
            "marker": {
             "line": {
              "color": "#E5ECF6",
              "width": 0.5
             },
             "pattern": {
              "fillmode": "overlay",
              "size": 10,
              "solidity": 0.2
             }
            },
            "type": "bar"
           }
          ],
          "scattergeo": [
           {
            "type": "scattergeo",
            "marker": {
             "colorbar": {
              "outlinewidth": 0,
              "ticks": ""
             }
            }
           }
          ],
          "scatterpolar": [
           {
            "type": "scatterpolar",
            "marker": {
             "colorbar": {
              "outlinewidth": 0,
              "ticks": ""
             }
            }
           }
          ],
          "histogram": [
           {
            "marker": {
             "pattern": {
              "fillmode": "overlay",
              "size": 10,
              "solidity": 0.2
             }
            },
            "type": "histogram"
           }
          ],
          "scattergl": [
           {
            "type": "scattergl",
            "marker": {
             "colorbar": {
              "outlinewidth": 0,
              "ticks": ""
             }
            }
           }
          ],
          "scatter3d": [
           {
            "type": "scatter3d",
            "line": {
             "colorbar": {
              "outlinewidth": 0,
              "ticks": ""
             }
            },
            "marker": {
             "colorbar": {
              "outlinewidth": 0,
              "ticks": ""
             }
            }
           }
          ],
          "scattermap": [
           {
            "type": "scattermap",
            "marker": {
             "colorbar": {
              "outlinewidth": 0,
              "ticks": ""
             }
            }
           }
          ],
          "scattermapbox": [
           {
            "type": "scattermapbox",
            "marker": {
             "colorbar": {
              "outlinewidth": 0,
              "ticks": ""
             }
            }
           }
          ],
          "scatterternary": [
           {
            "type": "scatterternary",
            "marker": {
             "colorbar": {
              "outlinewidth": 0,
              "ticks": ""
             }
            }
           }
          ],
          "scattercarpet": [
           {
            "type": "scattercarpet",
            "marker": {
             "colorbar": {
              "outlinewidth": 0,
              "ticks": ""
             }
            }
           }
          ],
          "carpet": [
           {
            "aaxis": {
             "endlinecolor": "#2a3f5f",
             "gridcolor": "white",
             "linecolor": "white",
             "minorgridcolor": "white",
             "startlinecolor": "#2a3f5f"
            },
            "baxis": {
             "endlinecolor": "#2a3f5f",
             "gridcolor": "white",
             "linecolor": "white",
             "minorgridcolor": "white",
             "startlinecolor": "#2a3f5f"
            },
            "type": "carpet"
           }
          ],
          "table": [
           {
            "cells": {
             "fill": {
              "color": "#EBF0F8"
             },
             "line": {
              "color": "white"
             }
            },
            "header": {
             "fill": {
              "color": "#C8D4E3"
             },
             "line": {
              "color": "white"
             }
            },
            "type": "table"
           }
          ],
          "barpolar": [
           {
            "marker": {
             "line": {
              "color": "#E5ECF6",
              "width": 0.5
             },
             "pattern": {
              "fillmode": "overlay",
              "size": 10,
              "solidity": 0.2
             }
            },
            "type": "barpolar"
           }
          ],
          "pie": [
           {
            "automargin": true,
            "type": "pie"
           }
          ]
         },
         "layout": {
          "autotypenumbers": "strict",
          "colorway": [
           "#636efa",
           "#EF553B",
           "#00cc96",
           "#ab63fa",
           "#FFA15A",
           "#19d3f3",
           "#FF6692",
           "#B6E880",
           "#FF97FF",
           "#FECB52"
          ],
          "font": {
           "color": "#2a3f5f"
          },
          "hovermode": "closest",
          "hoverlabel": {
           "align": "left"
          },
          "paper_bgcolor": "white",
          "plot_bgcolor": "#E5ECF6",
          "polar": {
           "bgcolor": "#E5ECF6",
           "angularaxis": {
            "gridcolor": "white",
            "linecolor": "white",
            "ticks": ""
           },
           "radialaxis": {
            "gridcolor": "white",
            "linecolor": "white",
            "ticks": ""
           }
          },
          "ternary": {
           "bgcolor": "#E5ECF6",
           "aaxis": {
            "gridcolor": "white",
            "linecolor": "white",
            "ticks": ""
           },
           "baxis": {
            "gridcolor": "white",
            "linecolor": "white",
            "ticks": ""
           },
           "caxis": {
            "gridcolor": "white",
            "linecolor": "white",
            "ticks": ""
           }
          },
          "coloraxis": {
           "colorbar": {
            "outlinewidth": 0,
            "ticks": ""
           }
          },
          "colorscale": {
           "sequential": [
            [
             0.0,
             "#0d0887"
            ],
            [
             0.1111111111111111,
             "#46039f"
            ],
            [
             0.2222222222222222,
             "#7201a8"
            ],
            [
             0.3333333333333333,
             "#9c179e"
            ],
            [
             0.4444444444444444,
             "#bd3786"
            ],
            [
             0.5555555555555556,
             "#d8576b"
            ],
            [
             0.6666666666666666,
             "#ed7953"
            ],
            [
             0.7777777777777778,
             "#fb9f3a"
            ],
            [
             0.8888888888888888,
             "#fdca26"
            ],
            [
             1.0,
             "#f0f921"
            ]
           ],
           "sequentialminus": [
            [
             0.0,
             "#0d0887"
            ],
            [
             0.1111111111111111,
             "#46039f"
            ],
            [
             0.2222222222222222,
             "#7201a8"
            ],
            [
             0.3333333333333333,
             "#9c179e"
            ],
            [
             0.4444444444444444,
             "#bd3786"
            ],
            [
             0.5555555555555556,
             "#d8576b"
            ],
            [
             0.6666666666666666,
             "#ed7953"
            ],
            [
             0.7777777777777778,
             "#fb9f3a"
            ],
            [
             0.8888888888888888,
             "#fdca26"
            ],
            [
             1.0,
             "#f0f921"
            ]
           ],
           "diverging": [
            [
             0,
             "#8e0152"
            ],
            [
             0.1,
             "#c51b7d"
            ],
            [
             0.2,
             "#de77ae"
            ],
            [
             0.3,
             "#f1b6da"
            ],
            [
             0.4,
             "#fde0ef"
            ],
            [
             0.5,
             "#f7f7f7"
            ],
            [
             0.6,
             "#e6f5d0"
            ],
            [
             0.7,
             "#b8e186"
            ],
            [
             0.8,
             "#7fbc41"
            ],
            [
             0.9,
             "#4d9221"
            ],
            [
             1,
             "#276419"
            ]
           ]
          },
          "xaxis": {
           "gridcolor": "white",
           "linecolor": "white",
           "ticks": "",
           "title": {
            "standoff": 15
           },
           "zerolinecolor": "white",
           "automargin": true,
           "zerolinewidth": 2
          },
          "yaxis": {
           "gridcolor": "white",
           "linecolor": "white",
           "ticks": "",
           "title": {
            "standoff": 15
           },
           "zerolinecolor": "white",
           "automargin": true,
           "zerolinewidth": 2
          },
          "scene": {
           "xaxis": {
            "backgroundcolor": "#E5ECF6",
            "gridcolor": "white",
            "linecolor": "white",
            "showbackground": true,
            "ticks": "",
            "zerolinecolor": "white",
            "gridwidth": 2
           },
           "yaxis": {
            "backgroundcolor": "#E5ECF6",
            "gridcolor": "white",
            "linecolor": "white",
            "showbackground": true,
            "ticks": "",
            "zerolinecolor": "white",
            "gridwidth": 2
           },
           "zaxis": {
            "backgroundcolor": "#E5ECF6",
            "gridcolor": "white",
            "linecolor": "white",
            "showbackground": true,
            "ticks": "",
            "zerolinecolor": "white",
            "gridwidth": 2
           }
          },
          "shapedefaults": {
           "line": {
            "color": "#2a3f5f"
           }
          },
          "annotationdefaults": {
           "arrowcolor": "#2a3f5f",
           "arrowhead": 0,
           "arrowwidth": 1
          },
          "geo": {
           "bgcolor": "white",
           "landcolor": "#E5ECF6",
           "subunitcolor": "white",
           "showland": true,
           "showlakes": true,
           "lakecolor": "white"
          },
          "title": {
           "x": 0.05
          },
          "mapbox": {
           "style": "light"
          }
         }
        },
        "xaxis": {
         "anchor": "y",
         "domain": [
          0.0,
          1.0
         ],
         "title": {
          "text": "PC1"
         }
        },
        "yaxis": {
         "anchor": "x",
         "domain": [
          0.0,
          1.0
         ],
         "title": {
          "text": "PC2"
         }
        },
        "coloraxis": {
         "colorbar": {
          "title": {
           "text": "color"
          }
         },
         "colorscale": [
          [
           0.0,
           "#0d0887"
          ],
          [
           0.1111111111111111,
           "#46039f"
          ],
          [
           0.2222222222222222,
           "#7201a8"
          ],
          [
           0.3333333333333333,
           "#9c179e"
          ],
          [
           0.4444444444444444,
           "#bd3786"
          ],
          [
           0.5555555555555556,
           "#d8576b"
          ],
          [
           0.6666666666666666,
           "#ed7953"
          ],
          [
           0.7777777777777778,
           "#fb9f3a"
          ],
          [
           0.8888888888888888,
           "#fdca26"
          ],
          [
           1.0,
           "#f0f921"
          ]
         ]
        },
        "legend": {
         "tracegroupgap": 0
        },
        "title": {
         "text": "PCA representation of clusters"
        }
       },
       "config": {
        "plotlyServerURL": "https://plot.ly"
       }
      }
     },
     "metadata": {},
     "output_type": "display_data",
     "jetTransient": {
      "display_id": null
     }
    },
    {
     "data": {
      "text/plain": [
       "            PC1         PC2\n",
       "0   2728.347412  -71.454716\n",
       "1  28810.520227  106.861892\n",
       "2   2623.197026  -70.136279\n",
       "3   -525.258443  -92.963129\n",
       "4  -1376.322426  112.156922"
      ],
      "text/html": [
       "<div>\n",
       "<style scoped>\n",
       "    .dataframe tbody tr th:only-of-type {\n",
       "        vertical-align: middle;\n",
       "    }\n",
       "\n",
       "    .dataframe tbody tr th {\n",
       "        vertical-align: top;\n",
       "    }\n",
       "\n",
       "    .dataframe thead th {\n",
       "        text-align: right;\n",
       "    }\n",
       "</style>\n",
       "<table border=\"1\" class=\"dataframe\">\n",
       "  <thead>\n",
       "    <tr style=\"text-align: right;\">\n",
       "      <th></th>\n",
       "      <th>PC1</th>\n",
       "      <th>PC2</th>\n",
       "    </tr>\n",
       "  </thead>\n",
       "  <tbody>\n",
       "    <tr>\n",
       "      <th>0</th>\n",
       "      <td>2728.347412</td>\n",
       "      <td>-71.454716</td>\n",
       "    </tr>\n",
       "    <tr>\n",
       "      <th>1</th>\n",
       "      <td>28810.520227</td>\n",
       "      <td>106.861892</td>\n",
       "    </tr>\n",
       "    <tr>\n",
       "      <th>2</th>\n",
       "      <td>2623.197026</td>\n",
       "      <td>-70.136279</td>\n",
       "    </tr>\n",
       "    <tr>\n",
       "      <th>3</th>\n",
       "      <td>-525.258443</td>\n",
       "      <td>-92.963129</td>\n",
       "    </tr>\n",
       "    <tr>\n",
       "      <th>4</th>\n",
       "      <td>-1376.322426</td>\n",
       "      <td>112.156922</td>\n",
       "    </tr>\n",
       "  </tbody>\n",
       "</table>\n",
       "</div>"
      ]
     },
     "execution_count": 286,
     "metadata": {},
     "output_type": "execute_result"
    }
   ],
   "execution_count": 286
  },
  {
   "metadata": {
    "ExecuteTime": {
     "end_time": "2025-09-17T01:23:24.074139Z",
     "start_time": "2025-09-17T01:23:19.881210Z"
    }
   },
   "cell_type": "code",
   "source": [
    "# Treat cluster labels as “pseudo-labels” and train a supervised model.\n",
    "X = rfm_df[[\"Recency\", \"Frequency\", \"Monetary\"]] # predictors\n",
    "y = labels # pseudo-labels\n",
    "\n",
    "# Itreate to find the best hyperpameter(max_depth, n_estimators) for our model\n",
    "# Decision Tree, find max_depth\n",
    "\n",
    "depths = range(1, 11)\n",
    "cv_scores = []\n",
    "\n",
    "for d in depths:\n",
    "    dt = DecisionTreeClassifier(max_depth=d, random_state=42)\n",
    "    scores = cross_val_score(dt, X, y, cv=5)   # 5-fold CV\n",
    "    cv_scores.append(scores.mean())\n",
    "\n",
    "plt.plot(depths, cv_scores, marker='o')\n",
    "plt.xlabel(\"max_depth\")\n",
    "plt.ylabel(\"CV Accuracy\")\n",
    "plt.title(\"Decision Tree depth tuning\")\n",
    "plt.show()\n",
    "\n",
    "\n",
    "# Random Forest, finding n_estimators\n",
    "n_estimators = [50, 100, 150, 200, 300]\n",
    "rf_scores = []\n",
    "\n",
    "for n in n_estimators:\n",
    "    rf = RandomForestClassifier(n_estimators=n, random_state=42, oob_score=True, n_jobs=-1)\n",
    "    rf.fit(X, y)\n",
    "    rf_scores.append(rf.oob_score_)\n",
    "\n",
    "plt.plot(n_estimators, rf_scores, marker='o')\n",
    "plt.xlabel(\"n_estimators\")\n",
    "plt.ylabel(\"OOB Accuracy\")\n",
    "plt.title(\"Random Forest OOB vs n_estimators\")\n",
    "plt.show()\n",
    "\n",
    "# GridSearchCV for concrete confirmation\n",
    "param_grid = {\"max_depth\": [None, 4, 6, 8],\n",
    "              \"n_estimators\": [100, 150, 200]}\n",
    "grid = GridSearchCV(RandomForestClassifier(random_state=42),\n",
    "                    param_grid, cv=5, n_jobs=-1)\n",
    "grid.fit(X, y)\n",
    "print(f\" Best hyper-parameter values:\", grid.best_params_)"
   ],
   "id": "39bd8f138e58471f",
   "outputs": [
    {
     "data": {
      "text/plain": [
       "<Figure size 640x480 with 1 Axes>"
      ],
      "image/png": "[encoded data removed]"
     },
     "metadata": {},
     "output_type": "display_data",
     "jetTransient": {
      "display_id": null
     }
    },
    {
     "data": {
      "text/plain": [
       "<Figure size 640x480 with 1 Axes>"
      ],
      "image/png": "[encoded data removed]"
     },
     "metadata": {},
     "output_type": "display_data",
     "jetTransient": {
      "display_id": null
     }
    },
    {
     "name": "stdout",
     "output_type": "stream",
     "text": [
      " Best hyper-parameter values: {'max_depth': 8, 'n_estimators': 100}\n"
     ]
    }
   ],
   "execution_count": 285
  },
  {
   "metadata": {
    "ExecuteTime": {
     "end_time": "2025-09-18T00:41:19.415988Z",
     "start_time": "2025-09-18T00:41:19.258481Z"
    }
   },
   "cell_type": "code",
   "source": [
    "# Build final rf-Model\n",
    "\n",
    "X_train, X_test, y_train, y_test = train_test_split(\n",
    "    X, y, test_size=0.2, random_state=42, stratify=y\n",
    ")\n",
    "\n",
    "rf_final = RandomForestClassifier(\n",
    "    max_depth=8,\n",
    "    n_estimators=100,\n",
    "    random_state=42,\n",
    "    oob_score=True,      # optional but nice for final check\n",
    "    n_jobs=-1\n",
    ")\n",
    "rf_final.fit(X_train, y_train)\n",
    "\n",
    "y_pred = rf_final.predict(X_test)\n",
    "print(\"Accuracy:\", rf_final.score(X_test, y_test))\n",
    "print(classification_report(y_test, y_pred))\n",
    "\n",
    "# Feature Importance\n",
    "importances = pd.Series(rf_final.feature_importances_, index=X.columns)\n",
    "print(importances)\n",
    "sns.barplot(x=importances, y=importances.index)\n",
    "plt.title(\"Feature Importance (Random Forest)\")\n",
    "plt.ylabel(\"Features\")\n",
    "plt.xlabel(\"labels\")\n",
    "plt.show()"
   ],
   "id": "c71d200e46d3b529",
   "outputs": [
    {
     "name": "stdout",
     "output_type": "stream",
     "text": [
      "Accuracy: 0.9845559845559846\n",
      "              precision    recall  f1-score   support\n",
      "\n",
      "           0       0.99      0.99      0.99       642\n",
      "           1       0.97      0.94      0.95       131\n",
      "           2       1.00      1.00      1.00         4\n",
      "\n",
      "    accuracy                           0.98       777\n",
      "   macro avg       0.99      0.98      0.98       777\n",
      "weighted avg       0.98      0.98      0.98       777\n",
      "\n",
      "Recency      0.152284\n",
      "Frequency    0.484854\n",
      "Monetary     0.362862\n",
      "dtype: float64\n"
     ]
    },
    {
     "data": {
      "text/plain": [
       "<Figure size 640x480 with 1 Axes>"
      ],
      "image/png": "[encoded data removed]"
     },
     "metadata": {},
     "output_type": "display_data",
     "jetTransient": {
      "display_id": null
     }
    }
   ],
   "execution_count": 298
  },
  {
   "metadata": {
    "ExecuteTime": {
     "end_time": "2025-09-17T06:19:02.652009Z",
     "start_time": "2025-09-17T06:19:02.467548Z"
    }
   },
   "cell_type": "code",
   "source": [
    "from sklearn.preprocessing import StandardScaler\n",
    "\n",
    "X = rfm_df[[\"Recency\", \"Frequency\", \"Monetary\"]]\n",
    "X_scaled = StandardScaler().fit_transform(X)\n",
    "\n",
    "from sklearn.ensemble import IsolationForest\n",
    "\n",
    "iso = IsolationForest(\n",
    "    n_estimators=100,        # number of trees\n",
    "    contamination=0.02,      # ~2% of customers are expected outliers\n",
    "    random_state=42\n",
    ")\n",
    "iso.fit(X_scaled)\n",
    "\n",
    "# -1 = anomaly, 1 = normal\n",
    "rfm_df[\"Anomaly_ISO\"] = iso.predict(X_scaled)\n",
    "rfm_df[\"Anomaly_ISO\"] = rfm_df[\"Anomaly_ISO\"].map({1:0, -1:1})  # 1 = outlier for clarity\n",
    "\n",
    "from sklearn.neighbors import LocalOutlierFactor\n",
    "\n",
    "lof = LocalOutlierFactor(\n",
    "    n_neighbors=20,\n",
    "    contamination=0.02\n",
    ")\n",
    "rfm_df[\"Anomaly_LOF\"] = (lof.fit_predict(X_scaled) == -1).astype(int)\n",
    "\n",
    "import seaborn as sns\n",
    "import matplotlib.pyplot as plt\n",
    "\n",
    "sns.scatterplot(\n",
    "    x=\"Recency\", y=\"Monetary\",\n",
    "    hue=\"Anomaly_ISO\", data=rfm_df,\n",
    "    palette={0:\"blue\", 1:\"red\"}\n",
    ")\n",
    "plt.title(\"Isolation Forest Outliers\")\n",
    "plt.show()\n"
   ],
   "id": "f4501ac86a27d401",
   "outputs": [
    {
     "data": {
      "text/plain": [
       "<Figure size 640x480 with 1 Axes>"
      ],
      "image/png": "[encoded data removed]"
     },
     "metadata": {},
     "output_type": "display_data",
     "jetTransient": {
      "display_id": null
     }
    }
   ],
   "execution_count": 288
  },
  {
   "metadata": {
    "ExecuteTime": {
     "end_time": "2025-09-18T02:25:16.112644Z",
     "start_time": "2025-09-18T02:25:15.947805Z"
    }
   },
   "cell_type": "code",
   "source": [
    "\n",
    "\n",
    "iso = IsolationForest(contamination=0.01, random_state=42)\n",
    "rfm_df[\"Anomaly_ISO\"] = iso.fit_predict(rfm_df[[\"Recency\", \"Frequency\"]])\n",
    "# Map to 0 = normal, 1 = anomaly\n",
    "rfm_df[\"Anomaly_ISO\"] = rfm_df[\"Anomaly_ISO\"].map({1: 0, -1: 1})\n",
    "\n",
    "\n",
    "plt.figure(figsize=(8,6))\n",
    "sns.scatterplot(\n",
    "    x=\"Recency\", y=\"Frequency\",\n",
    "    hue=\"Anomaly_ISO\", data=rfm_df,\n",
    "    palette={0: \"blue\", 1: \"red\"}, alpha=0.7\n",
    ")\n",
    "plt.title(\"Isolation Forest Outliers (Recency vs Frequency)\")\n",
    "plt.xlabel(\"Recency (days)\")\n",
    "plt.ylabel(\"Purchase Frequency\")\n",
    "plt.legend(title=\"Anomaly\")\n",
    "plt.show()\n",
    "\n"
   ],
   "id": "bdb6f9ab2cfaa0d1",
   "outputs": [
    {
     "data": {
      "text/plain": [
       "<Figure size 800x600 with 1 Axes>"
      ],
      "image/png": "[encoded data removed]"
     },
     "metadata": {},
     "output_type": "display_data",
     "jetTransient": {
      "display_id": null
     }
    }
   ],
   "execution_count": 300
  },
  {
   "metadata": {},
   "cell_type": "code",
   "outputs": [],
   "execution_count": null,
   "source": "\n",
   "id": "e2f9040466f28e7a"
  }
 ],
 "metadata": {
  "kernelspec": {
   "display_name": "Python 3",
   "language": "python",
   "name": "python3"
  },
  "language_info": {
   "codemirror_mode": {
    "name": "ipython",
    "version": 2
   },
   "file_extension": ".py",
   "mimetype": "text/x-python",
   "name": "python",
   "nbconvert_exporter": "python",
   "pygments_lexer": "ipython2",
   "version": "2.7.6"
  }
 },
 "nbformat": 4,
 "nbformat_minor": 5
}
